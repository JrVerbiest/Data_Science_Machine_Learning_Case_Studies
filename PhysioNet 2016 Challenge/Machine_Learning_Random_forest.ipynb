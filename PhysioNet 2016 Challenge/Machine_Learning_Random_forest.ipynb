{
 "cells": [
  {
   "cell_type": "markdown",
   "metadata": {},
   "source": [
    "# Classification of Normal/Abnormal Heart Sound Recordings\n",
    "<br>\n",
    "Last changed: 17 March 2019\n",
    "<br>\n",
    "\n",
    "## Random Forest\n",
    "<br>\n",
    "\n",
    "In this notebook we use the feature table from the Heart Sound Classification demo from Matlab:\n",
    "<br> https://nl.mathworks.com/matlabcentral/fileexchange/65286-heart-sound-classifier\n",
    "\n",
    "The feature table (.mat file) is loaded in Matlab2018b and saved as csv file as follows: <br>\n",
    "\n",
    "```matlab\n",
    "  load('FeatureTable.mat');\n",
    "  writetable(feature_table,'feature_table.csv');\n",
    "```\n",
    "\n",
    "The Matab demo feature table is extracted from the Physionet 2016 challenge dataset:\n",
    "\n",
    "https://www.physionet.org/physiobank/database/challenge/2016/\n"
   ]
  },
  {
   "cell_type": "code",
   "execution_count": 1,
   "metadata": {},
   "outputs": [
    {
     "name": "stderr",
     "output_type": "stream",
     "text": [
      "/anaconda/lib/python3.6/site-packages/sklearn/ensemble/weight_boosting.py:29: DeprecationWarning: numpy.core.umath_tests is an internal NumPy module and should not be imported. It will be removed in a future NumPy release.\n",
      "  from numpy.core.umath_tests import inner1d\n"
     ]
    }
   ],
   "source": [
    "import pandas as pd\n",
    "import numpy as np\n",
    "import itertools\n",
    "\n",
    "import matplotlib.pyplot as plt\n",
    "\n",
    "from sklearn.model_selection import train_test_split\n",
    "from sklearn.linear_model import LogisticRegression\n",
    "from sklearn.ensemble import RandomForestClassifier\n",
    "from sklearn import metrics\n",
    "\n",
    "from IPython.display import Image\n",
    "from IPython.display import display, Markdown, Latex"
   ]
  },
  {
   "cell_type": "code",
   "execution_count": 2,
   "metadata": {},
   "outputs": [],
   "source": [
    "# ref.: http://scikit-learn.org/stable/auto_examples/model_selection/plot_confusion_matrix.html\n",
    "def plot_confusion_matrix(cm, classes,\n",
    "                          normalize=False,\n",
    "                          title='Confusion matrix',\n",
    "                          cmap=plt.cm.Blues):\n",
    "    \"\"\"\n",
    "    This function prints and plots the confusion matrix.\n",
    "    Normalization can be applied by setting `normalize=True`.\n",
    "    \"\"\"\n",
    "    if normalize:\n",
    "        cm = cm.astype('float') / cm.sum(axis=1)[:, np.newaxis]\n",
    "        print(\"Normalized confusion matrix\")\n",
    "    else:\n",
    "        print('Confusion matrix, without normalization')\n",
    "\n",
    "    print(cm)\n",
    "\n",
    "    plt.imshow(cm, interpolation='nearest', cmap=cmap)\n",
    "    plt.title(title)\n",
    "    plt.colorbar()\n",
    "    tick_marks = np.arange(len(classes))\n",
    "    plt.xticks(tick_marks, classes, rotation=45)\n",
    "    plt.yticks(tick_marks, classes)\n",
    "\n",
    "    fmt = '.2f' if normalize else 'd'\n",
    "    thresh = cm.max() / 2.\n",
    "    for i, j in itertools.product(range(cm.shape[0]), range(cm.shape[1])):\n",
    "        plt.text(j, i, format(cm[i, j], fmt),\n",
    "                 horizontalalignment=\"center\",\n",
    "                 color=\"white\" if cm[i, j] > thresh else \"black\")\n",
    "\n",
    "    plt.ylabel('True label')\n",
    "    plt.xlabel('Predicted label')\n",
    "    plt.tight_layout()"
   ]
  },
  {
   "cell_type": "code",
   "execution_count": 3,
   "metadata": {},
   "outputs": [],
   "source": [
    "def model_evaluation(y_validation, y_prediction, class_labels):\n",
    "    cnf_matrix = metrics.confusion_matrix(y_validation, y_prediction, labels = class_labels);\n",
    "    \n",
    "    # plot confusion matrix\n",
    "    plt.figure()\n",
    "    plot_confusion_matrix(cnf_matrix, classes=class_labels, title='Confusion matrix, without normalization')\n",
    "\n",
    "    # Plot normalized confusion matrix\n",
    "    plt.figure()\n",
    "    plot_confusion_matrix(cnf_matrix, classes=class_labels, normalize=True, title='Normalized confusion matrix')\n",
    "\n",
    "    plt.show()\n",
    "    \n",
    "    # \n",
    "    TN = cnf_matrix[0,0]\n",
    "    print('TN =', TN)\n",
    "    TP = cnf_matrix[1,1]\n",
    "    print('TP =', TP)\n",
    "    FP = cnf_matrix[0,1]\n",
    "    print('FP =', FP)\n",
    "    FN = cnf_matrix[1,0]\n",
    "    print('FN =', FN)\n",
    "\n",
    "    print('')\n",
    "    print('Validation')\n",
    "    print('Normal:', y_validation.value_counts()[0])\n",
    "    print('Abnormal:', y_validation.value_counts()[1])\n",
    "    print('Total:', y_validation.value_counts()[0]+y_validation.value_counts()[1])\n",
    "    print('Normal %:', 100*round(y_validation.value_counts()[0]/(y_validation.value_counts()[0]+y_validation.value_counts()[1]),2))\n",
    "    print('Abnormal %:', 100*round(y_validation.value_counts()[1]/(y_validation.value_counts()[0]+y_validation.value_counts()[1]),2))\n",
    "    print('')\n",
    "    print('TP+TN+FP+FN =', TP+TN+FP+FN)\n",
    "\n",
    "    Accuracy = (TP+TN)/(TP+TN+FP+FN)\n",
    "    Sensitivity = TP/(TP+FN)\n",
    "    Precision   = TP/(TP+FP)\n",
    "    F1 = 2*(Precision*Sensitivity)/(Precision+Sensitivity)\n",
    "\n",
    "    print('')\n",
    "    print(\"Accuracy (sklearn metrics) %:\",100*round(metrics.accuracy_score(y_validation, y_prediction),3))\n",
    "    print(\"Accuracy %:\", 100*round(Accuracy,3))\n",
    "    print(\"Score F1:\", round(F1,2))\n",
    "    print('')\n",
    "    display(Markdown('Of all patients where we predicted abnormal heart sound, what fraction has abnormal heart sound.'))\n",
    "    print(\"Precision:\", 100*round(Precision,2),\"%\")\n",
    "    display(Markdown('Of all patients that have abnormal heart sound, what fraction did we correctly detect.'))\n",
    "    print(\"Recall/Sensitivity:\", 100*round(Sensitivity,2),\"%\")\n",
    "    print('')\n",
    "    \n",
    "    return TP, TN, FP, FN, Accuracy, Sensitivity, Precision, F1"
   ]
  },
  {
   "cell_type": "markdown",
   "metadata": {},
   "source": [
    "## Import dataset"
   ]
  },
  {
   "cell_type": "code",
   "execution_count": 4,
   "metadata": {},
   "outputs": [],
   "source": [
    "path = './data/feature_table.csv'\n",
    "dataset = pd.read_csv(path)"
   ]
  },
  {
   "cell_type": "code",
   "execution_count": 5,
   "metadata": {},
   "outputs": [
    {
     "data": {
      "text/html": [
       "<div>\n",
       "<style scoped>\n",
       "    .dataframe tbody tr th:only-of-type {\n",
       "        vertical-align: middle;\n",
       "    }\n",
       "\n",
       "    .dataframe tbody tr th {\n",
       "        vertical-align: top;\n",
       "    }\n",
       "\n",
       "    .dataframe thead th {\n",
       "        text-align: right;\n",
       "    }\n",
       "</style>\n",
       "<table border=\"1\" class=\"dataframe\">\n",
       "  <thead>\n",
       "    <tr style=\"text-align: right;\">\n",
       "      <th></th>\n",
       "      <th>meanValue</th>\n",
       "      <th>medianValue</th>\n",
       "      <th>standardDeviation</th>\n",
       "      <th>meanAbsoluteDeviation</th>\n",
       "      <th>quantile25</th>\n",
       "      <th>quantile75</th>\n",
       "      <th>signalIQR</th>\n",
       "      <th>sampleSkewness</th>\n",
       "      <th>sampleKurtosis</th>\n",
       "      <th>signalEntropy</th>\n",
       "      <th>...</th>\n",
       "      <th>MFCC5</th>\n",
       "      <th>MFCC6</th>\n",
       "      <th>MFCC7</th>\n",
       "      <th>MFCC8</th>\n",
       "      <th>MFCC9</th>\n",
       "      <th>MFCC10</th>\n",
       "      <th>MFCC11</th>\n",
       "      <th>MFCC12</th>\n",
       "      <th>MFCC13</th>\n",
       "      <th>class</th>\n",
       "    </tr>\n",
       "  </thead>\n",
       "  <tbody>\n",
       "    <tr>\n",
       "      <th>0</th>\n",
       "      <td>-0.000027</td>\n",
       "      <td>0.000153</td>\n",
       "      <td>0.020330</td>\n",
       "      <td>0.012280</td>\n",
       "      <td>-0.008377</td>\n",
       "      <td>0.008209</td>\n",
       "      <td>0.016586</td>\n",
       "      <td>1.448406</td>\n",
       "      <td>21.147144</td>\n",
       "      <td>-2.765938</td>\n",
       "      <td>...</td>\n",
       "      <td>-2.514937</td>\n",
       "      <td>-3.142967</td>\n",
       "      <td>-1.963752</td>\n",
       "      <td>-0.113152</td>\n",
       "      <td>-0.284882</td>\n",
       "      <td>1.621789</td>\n",
       "      <td>-0.533383</td>\n",
       "      <td>-1.692560</td>\n",
       "      <td>-2.023930</td>\n",
       "      <td>Abnormal</td>\n",
       "    </tr>\n",
       "    <tr>\n",
       "      <th>1</th>\n",
       "      <td>-0.000004</td>\n",
       "      <td>0.000061</td>\n",
       "      <td>0.021358</td>\n",
       "      <td>0.012943</td>\n",
       "      <td>-0.007904</td>\n",
       "      <td>0.008148</td>\n",
       "      <td>0.016052</td>\n",
       "      <td>0.598251</td>\n",
       "      <td>16.506547</td>\n",
       "      <td>-2.701691</td>\n",
       "      <td>...</td>\n",
       "      <td>-1.742107</td>\n",
       "      <td>-4.678335</td>\n",
       "      <td>-2.733229</td>\n",
       "      <td>2.393984</td>\n",
       "      <td>0.100006</td>\n",
       "      <td>2.916759</td>\n",
       "      <td>-1.341317</td>\n",
       "      <td>-0.905575</td>\n",
       "      <td>-1.491379</td>\n",
       "      <td>Abnormal</td>\n",
       "    </tr>\n",
       "    <tr>\n",
       "      <th>2</th>\n",
       "      <td>0.000016</td>\n",
       "      <td>0.000366</td>\n",
       "      <td>0.021588</td>\n",
       "      <td>0.013572</td>\n",
       "      <td>-0.009216</td>\n",
       "      <td>0.008530</td>\n",
       "      <td>0.017746</td>\n",
       "      <td>1.039007</td>\n",
       "      <td>14.776147</td>\n",
       "      <td>-2.643367</td>\n",
       "      <td>...</td>\n",
       "      <td>-0.553855</td>\n",
       "      <td>-1.351164</td>\n",
       "      <td>-2.250663</td>\n",
       "      <td>1.132156</td>\n",
       "      <td>-0.426723</td>\n",
       "      <td>2.394257</td>\n",
       "      <td>1.594562</td>\n",
       "      <td>-2.093305</td>\n",
       "      <td>-1.369329</td>\n",
       "      <td>Abnormal</td>\n",
       "    </tr>\n",
       "    <tr>\n",
       "      <th>3</th>\n",
       "      <td>-0.000079</td>\n",
       "      <td>-0.000153</td>\n",
       "      <td>0.019643</td>\n",
       "      <td>0.012688</td>\n",
       "      <td>-0.009018</td>\n",
       "      <td>0.008606</td>\n",
       "      <td>0.017624</td>\n",
       "      <td>0.788818</td>\n",
       "      <td>13.674144</td>\n",
       "      <td>-2.716049</td>\n",
       "      <td>...</td>\n",
       "      <td>-0.740283</td>\n",
       "      <td>-4.181773</td>\n",
       "      <td>-2.078157</td>\n",
       "      <td>1.825690</td>\n",
       "      <td>0.865000</td>\n",
       "      <td>2.492632</td>\n",
       "      <td>-0.916560</td>\n",
       "      <td>-0.552540</td>\n",
       "      <td>-2.229849</td>\n",
       "      <td>Abnormal</td>\n",
       "    </tr>\n",
       "    <tr>\n",
       "      <th>4</th>\n",
       "      <td>0.000004</td>\n",
       "      <td>0.000488</td>\n",
       "      <td>0.023276</td>\n",
       "      <td>0.012722</td>\n",
       "      <td>-0.007202</td>\n",
       "      <td>0.007385</td>\n",
       "      <td>0.014587</td>\n",
       "      <td>1.282866</td>\n",
       "      <td>21.825459</td>\n",
       "      <td>-2.770344</td>\n",
       "      <td>...</td>\n",
       "      <td>-0.820515</td>\n",
       "      <td>-5.892187</td>\n",
       "      <td>-2.024111</td>\n",
       "      <td>1.519565</td>\n",
       "      <td>-0.647076</td>\n",
       "      <td>3.923026</td>\n",
       "      <td>-0.563399</td>\n",
       "      <td>-1.758184</td>\n",
       "      <td>-0.482701</td>\n",
       "      <td>Abnormal</td>\n",
       "    </tr>\n",
       "  </tbody>\n",
       "</table>\n",
       "<p>5 rows × 28 columns</p>\n",
       "</div>"
      ],
      "text/plain": [
       "   meanValue  medianValue  standardDeviation  meanAbsoluteDeviation  \\\n",
       "0  -0.000027     0.000153           0.020330               0.012280   \n",
       "1  -0.000004     0.000061           0.021358               0.012943   \n",
       "2   0.000016     0.000366           0.021588               0.013572   \n",
       "3  -0.000079    -0.000153           0.019643               0.012688   \n",
       "4   0.000004     0.000488           0.023276               0.012722   \n",
       "\n",
       "   quantile25  quantile75  signalIQR  sampleSkewness  sampleKurtosis  \\\n",
       "0   -0.008377    0.008209   0.016586        1.448406       21.147144   \n",
       "1   -0.007904    0.008148   0.016052        0.598251       16.506547   \n",
       "2   -0.009216    0.008530   0.017746        1.039007       14.776147   \n",
       "3   -0.009018    0.008606   0.017624        0.788818       13.674144   \n",
       "4   -0.007202    0.007385   0.014587        1.282866       21.825459   \n",
       "\n",
       "   signalEntropy    ...        MFCC5     MFCC6     MFCC7     MFCC8     MFCC9  \\\n",
       "0      -2.765938    ...    -2.514937 -3.142967 -1.963752 -0.113152 -0.284882   \n",
       "1      -2.701691    ...    -1.742107 -4.678335 -2.733229  2.393984  0.100006   \n",
       "2      -2.643367    ...    -0.553855 -1.351164 -2.250663  1.132156 -0.426723   \n",
       "3      -2.716049    ...    -0.740283 -4.181773 -2.078157  1.825690  0.865000   \n",
       "4      -2.770344    ...    -0.820515 -5.892187 -2.024111  1.519565 -0.647076   \n",
       "\n",
       "     MFCC10    MFCC11    MFCC12    MFCC13     class  \n",
       "0  1.621789 -0.533383 -1.692560 -2.023930  Abnormal  \n",
       "1  2.916759 -1.341317 -0.905575 -1.491379  Abnormal  \n",
       "2  2.394257  1.594562 -2.093305 -1.369329  Abnormal  \n",
       "3  2.492632 -0.916560 -0.552540 -2.229849  Abnormal  \n",
       "4  3.923026 -0.563399 -1.758184 -0.482701  Abnormal  \n",
       "\n",
       "[5 rows x 28 columns]"
      ]
     },
     "execution_count": 5,
     "metadata": {},
     "output_type": "execute_result"
    }
   ],
   "source": [
    "dataset.head()"
   ]
  },
  {
   "cell_type": "code",
   "execution_count": 6,
   "metadata": {},
   "outputs": [
    {
     "data": {
      "text/plain": [
       "['meanValue',\n",
       " 'medianValue',\n",
       " 'standardDeviation',\n",
       " 'meanAbsoluteDeviation',\n",
       " 'quantile25',\n",
       " 'quantile75',\n",
       " 'signalIQR',\n",
       " 'sampleSkewness',\n",
       " 'sampleKurtosis',\n",
       " 'signalEntropy',\n",
       " 'spectralEntropy',\n",
       " 'dominantFrequencyValue',\n",
       " 'dominantFrequencyMagnitude',\n",
       " 'dominantFrequencyRatio',\n",
       " 'MFCC1',\n",
       " 'MFCC2',\n",
       " 'MFCC3',\n",
       " 'MFCC4',\n",
       " 'MFCC5',\n",
       " 'MFCC6',\n",
       " 'MFCC7',\n",
       " 'MFCC8',\n",
       " 'MFCC9',\n",
       " 'MFCC10',\n",
       " 'MFCC11',\n",
       " 'MFCC12',\n",
       " 'MFCC13',\n",
       " 'class']"
      ]
     },
     "execution_count": 6,
     "metadata": {},
     "output_type": "execute_result"
    }
   ],
   "source": [
    "list(dataset.columns.values)"
   ]
  },
  {
   "cell_type": "code",
   "execution_count": 7,
   "metadata": {},
   "outputs": [
    {
     "name": "stdout",
     "output_type": "stream",
     "text": [
      "['meanValue' 'medianValue' 'standardDeviation' 'meanAbsoluteDeviation'\n",
      " 'quantile25' 'quantile75' 'signalIQR' 'sampleSkewness' 'sampleKurtosis'\n",
      " 'signalEntropy' 'spectralEntropy' 'dominantFrequencyValue'\n",
      " 'dominantFrequencyMagnitude' 'dominantFrequencyRatio' 'MFCC1' 'MFCC2'\n",
      " 'MFCC3' 'MFCC4' 'MFCC5' 'MFCC6' 'MFCC7' 'MFCC8' 'MFCC9' 'MFCC10' 'MFCC11'\n",
      " 'MFCC12' 'MFCC13']\n"
     ]
    }
   ],
   "source": [
    "features = dataset.columns.values[0:27]\n",
    "print(features)"
   ]
  },
  {
   "cell_type": "code",
   "execution_count": 8,
   "metadata": {},
   "outputs": [
    {
     "data": {
      "image/png": "[encoded data removed]",
      "text/plain": [
       "<Figure size 432x288 with 1 Axes>"
      ]
     },
     "metadata": {},
     "output_type": "display_data"
    }
   ],
   "source": [
    "dataset['class'].value_counts().plot(kind='bar', title='Counts');"
   ]
  },
  {
   "cell_type": "code",
   "execution_count": 9,
   "metadata": {},
   "outputs": [
    {
     "name": "stdout",
     "output_type": "stream",
     "text": [
      "Normal: 9857\n",
      "Abnormal: 3158\n",
      "Total: 13015\n"
     ]
    }
   ],
   "source": [
    "normal, abnormal = dataset['class'].value_counts()\n",
    "print('Normal:', normal)\n",
    "print('Abnormal:', abnormal)\n",
    "print('Total:', normal+abnormal)"
   ]
  },
  {
   "cell_type": "code",
   "execution_count": 10,
   "metadata": {},
   "outputs": [
    {
     "name": "stdout",
     "output_type": "stream",
     "text": [
      "Normal %: 75.7\n",
      "Abnormal %: 24.3\n"
     ]
    }
   ],
   "source": [
    "print('Normal %:', 100*round(normal/(normal+abnormal),3))\n",
    "print('Abnormal %:', 100*round(abnormal/(normal+abnormal),3))"
   ]
  },
  {
   "cell_type": "markdown",
   "metadata": {},
   "source": [
    "In the dataset there are 75.7% normal heart sound samples and 24.3% abnormal heart sound samples. "
   ]
  },
  {
   "cell_type": "code",
   "execution_count": 11,
   "metadata": {},
   "outputs": [],
   "source": [
    "class_labels = [\"Normal\", \"Abnormal\"]"
   ]
  },
  {
   "cell_type": "markdown",
   "metadata": {},
   "source": [
    "## Dataset split: Train - Validation - Test"
   ]
  },
  {
   "cell_type": "code",
   "execution_count": 13,
   "metadata": {},
   "outputs": [
    {
     "name": "stdout",
     "output_type": "stream",
     "text": [
      "13015\n",
      "13015\n"
     ]
    }
   ],
   "source": [
    "X = dataset[features]\n",
    "y = dataset['class']\n",
    "print(len(X))\n",
    "print(len(y))"
   ]
  },
  {
   "cell_type": "code",
   "execution_count": 14,
   "metadata": {},
   "outputs": [
    {
     "name": "stdout",
     "output_type": "stream",
     "text": [
      "0.33\n",
      "0.6699999999999999\n"
     ]
    }
   ],
   "source": [
    "val_size = 0.2\n",
    "test_size = 0.1\n",
    "new_test_size = np.around(test_size / (val_size + test_size), 2)\n",
    "print(new_test_size)\n",
    "new_val_size = 1.0 - new_test_size\n",
    "print(new_val_size)"
   ]
  },
  {
   "cell_type": "code",
   "execution_count": 15,
   "metadata": {},
   "outputs": [],
   "source": [
    "X_train, X_remain, y_train, y_remain = train_test_split(X, y, test_size=(val_size + test_size), random_state=1)\n",
    "X_val, X_test, y_val, y_test = train_test_split(X_remain, y_remain, test_size=new_test_size, random_state=1)"
   ]
  },
  {
   "cell_type": "code",
   "execution_count": 16,
   "metadata": {},
   "outputs": [
    {
     "name": "stdout",
     "output_type": "stream",
     "text": [
      "Training set has 9110 samples.\n",
      "Validation set has 2616 samples.\n",
      "Testing set has 1289 samples.\n"
     ]
    }
   ],
   "source": [
    "# Show the results of the split\n",
    "print(\"Training set has {} samples.\".format(X_train.shape[0]))\n",
    "print(\"Validation set has {} samples.\".format(X_val.shape[0]))\n",
    "print(\"Testing set has {} samples.\".format(X_test.shape[0]))"
   ]
  },
  {
   "cell_type": "code",
   "execution_count": 17,
   "metadata": {},
   "outputs": [
    {
     "name": "stdout",
     "output_type": "stream",
     "text": [
      "Train set: 70 %\n",
      "Validation set: 20 %\n",
      "Test set: 10 %\n"
     ]
    }
   ],
   "source": [
    "print(\"Train set:\",round(100*len(X_train)/len(X)),'%')\n",
    "print(\"Validation set:\",round(100*len(X_val)/len(X)),'%')\n",
    "print(\"Test set:\",round(100*len(X_test)/len(X)),'%')"
   ]
  },
  {
   "cell_type": "code",
   "execution_count": 18,
   "metadata": {},
   "outputs": [
    {
     "name": "stdout",
     "output_type": "stream",
     "text": [
      "Train\n",
      "Normal      6939\n",
      "Abnormal    2171\n",
      "Name: class, dtype: int64\n",
      "Normal %: 76.0\n",
      "Abnormal %: 24.0\n"
     ]
    }
   ],
   "source": [
    "print('Train')\n",
    "print(y_train.value_counts())\n",
    "print('Normal %:', 100*round(y_train.value_counts()[0]/(y_train.value_counts()[0]+y_train.value_counts()[1]),2))\n",
    "print('Abnormal %:', 100*round(y_train.value_counts()[1]/(y_train.value_counts()[0]+y_train.value_counts()[1]),2))"
   ]
  },
  {
   "cell_type": "code",
   "execution_count": 19,
   "metadata": {},
   "outputs": [
    {
     "name": "stdout",
     "output_type": "stream",
     "text": [
      "Validation\n",
      "Normal: 1956\n",
      "Abnormal: 660\n",
      "Normal %: 75.0\n",
      "Abnormal %: 25.0\n"
     ]
    }
   ],
   "source": [
    "print('Validation')\n",
    "print('Normal:', y_val.value_counts()[0])\n",
    "print('Abnormal:', y_val.value_counts()[1])\n",
    "print('Normal %:', 100*round(y_val.value_counts()[0]/(y_val.value_counts()[0]+y_val.value_counts()[1]),2))\n",
    "print('Abnormal %:', 100*round(y_val.value_counts()[1]/(y_val.value_counts()[0]+y_val.value_counts()[1]),2))"
   ]
  },
  {
   "cell_type": "code",
   "execution_count": 20,
   "metadata": {},
   "outputs": [
    {
     "name": "stdout",
     "output_type": "stream",
     "text": [
      "Test\n",
      "Normal      962\n",
      "Abnormal    327\n",
      "Name: class, dtype: int64\n",
      "Normal %: 75.0\n",
      "Abnormal %: 25.0\n"
     ]
    }
   ],
   "source": [
    "print('Test')\n",
    "print(y_test.value_counts())\n",
    "print('Normal %:', 100*round(y_test.value_counts()[0]/(y_test.value_counts()[0]+y_test.value_counts()[1]),2))\n",
    "print('Abnormal %:', 100*round(y_test.value_counts()[1]/(y_test.value_counts()[0]+y_test.value_counts()[1]),2))"
   ]
  },
  {
   "cell_type": "markdown",
   "metadata": {},
   "source": [
    "## Model Training"
   ]
  },
  {
   "cell_type": "markdown",
   "metadata": {},
   "source": [
    "### Baseline: Logistic regression"
   ]
  },
  {
   "cell_type": "markdown",
   "metadata": {},
   "source": [
    "As baseline the **Logistic Regression** is taken."
   ]
  },
  {
   "cell_type": "code",
   "execution_count": 21,
   "metadata": {},
   "outputs": [
    {
     "name": "stdout",
     "output_type": "stream",
     "text": [
      "{'C': 1.0, 'class_weight': None, 'dual': False, 'fit_intercept': True, 'intercept_scaling': 1, 'max_iter': 100, 'multi_class': 'ovr', 'n_jobs': 1, 'penalty': 'l2', 'random_state': 0, 'solver': 'liblinear', 'tol': 0.0001, 'verbose': 0, 'warm_start': False}\n",
      "Confusion matrix, without normalization\n",
      "[[1832  124]\n",
      " [ 251  409]]\n",
      "Normalized confusion matrix\n",
      "[[0.93660532 0.06339468]\n",
      " [0.38030303 0.61969697]]\n"
     ]
    },
    {
     "data": {
      "image/png": "[encoded data removed]",
      "text/plain": [
       "<Figure size 432x288 with 2 Axes>"
      ]
     },
     "metadata": {},
     "output_type": "display_data"
    },
    {
     "data": {
      "image/png": "[encoded data removed]",
      "text/plain": [
       "<Figure size 432x288 with 2 Axes>"
      ]
     },
     "metadata": {},
     "output_type": "display_data"
    },
    {
     "name": "stdout",
     "output_type": "stream",
     "text": [
      "TN = 1832\n",
      "TP = 409\n",
      "FP = 124\n",
      "FN = 251\n",
      "\n",
      "Validation\n",
      "Normal: 1956\n",
      "Abnormal: 660\n",
      "Total: 2616\n",
      "Normal %: 75.0\n",
      "Abnormal %: 25.0\n",
      "\n",
      "TP+TN+FP+FN = 2616\n",
      "\n",
      "Accuracy (sklearn metrics) %: 85.7\n",
      "Accuracy %: 85.7\n",
      "Score F1: 0.69\n",
      "\n"
     ]
    },
    {
     "data": {
      "text/markdown": [
       "Of all patients where we predicted abnormal heart sound, what fraction has abnormal heart sound."
      ],
      "text/plain": [
       "<IPython.core.display.Markdown object>"
      ]
     },
     "metadata": {},
     "output_type": "display_data"
    },
    {
     "name": "stdout",
     "output_type": "stream",
     "text": [
      "Precision: 77.0 %\n"
     ]
    },
    {
     "data": {
      "text/markdown": [
       "Of all patients that have abnormal heart sound, what fraction did we correctly detect."
      ],
      "text/plain": [
       "<IPython.core.display.Markdown object>"
      ]
     },
     "metadata": {},
     "output_type": "display_data"
    },
    {
     "name": "stdout",
     "output_type": "stream",
     "text": [
      "Recall/Sensitivity: 62.0 %\n",
      "\n"
     ]
    }
   ],
   "source": [
    "# instantiate the model (using the default parameters)\n",
    "clf = LogisticRegression(random_state=0)\n",
    "\n",
    "# fit the model with data\n",
    "clf.fit(X_train,y_train)\n",
    "\n",
    "# predict class labels for samples in the validation set\n",
    "y_pred_LogisticRegression = clf.predict(X_val)\n",
    "\n",
    "# parameters classifier\n",
    "parameters_LogisticRegression = clf.get_params()\n",
    "print(parameters_LogisticRegression)\n",
    "\n",
    "# evaluation\n",
    "Performance_Metrics_LogisticRegression = model_evaluation(y_val, y_pred_LogisticRegression, class_labels)"
   ]
  },
  {
   "cell_type": "markdown",
   "metadata": {},
   "source": [
    "### Random Forest"
   ]
  },
  {
   "cell_type": "code",
   "execution_count": 22,
   "metadata": {},
   "outputs": [
    {
     "name": "stdout",
     "output_type": "stream",
     "text": [
      "{'bootstrap': True, 'class_weight': None, 'criterion': 'gini', 'max_depth': None, 'max_features': 'auto', 'max_leaf_nodes': None, 'min_impurity_decrease': 0.0, 'min_impurity_split': None, 'min_samples_leaf': 1, 'min_samples_split': 2, 'min_weight_fraction_leaf': 0.0, 'n_estimators': 10, 'n_jobs': -1, 'oob_score': False, 'random_state': 0, 'verbose': 0, 'warm_start': False}\n",
      "Confusion matrix, without normalization\n",
      "[[1841  115]\n",
      " [ 101  559]]\n",
      "Normalized confusion matrix\n",
      "[[0.94120654 0.05879346]\n",
      " [0.1530303  0.8469697 ]]\n"
     ]
    },
    {
     "data": {
      "image/png": "[encoded data removed]",
      "text/plain": [
       "<Figure size 432x288 with 2 Axes>"
      ]
     },
     "metadata": {},
     "output_type": "display_data"
    },
    {
     "data": {
      "image/png": "[encoded data removed]",
      "text/plain": [
       "<Figure size 432x288 with 2 Axes>"
      ]
     },
     "metadata": {},
     "output_type": "display_data"
    },
    {
     "name": "stdout",
     "output_type": "stream",
     "text": [
      "TN = 1841\n",
      "TP = 559\n",
      "FP = 115\n",
      "FN = 101\n",
      "\n",
      "Validation\n",
      "Normal: 1956\n",
      "Abnormal: 660\n",
      "Total: 2616\n",
      "Normal %: 75.0\n",
      "Abnormal %: 25.0\n",
      "\n",
      "TP+TN+FP+FN = 2616\n",
      "\n",
      "Accuracy (sklearn metrics) %: 91.7\n",
      "Accuracy %: 91.7\n",
      "Score F1: 0.84\n",
      "\n"
     ]
    },
    {
     "data": {
      "text/markdown": [
       "Of all patients where we predicted abnormal heart sound, what fraction has abnormal heart sound."
      ],
      "text/plain": [
       "<IPython.core.display.Markdown object>"
      ]
     },
     "metadata": {},
     "output_type": "display_data"
    },
    {
     "name": "stdout",
     "output_type": "stream",
     "text": [
      "Precision: 83.0 %\n"
     ]
    },
    {
     "data": {
      "text/markdown": [
       "Of all patients that have abnormal heart sound, what fraction did we correctly detect."
      ],
      "text/plain": [
       "<IPython.core.display.Markdown object>"
      ]
     },
     "metadata": {},
     "output_type": "display_data"
    },
    {
     "name": "stdout",
     "output_type": "stream",
     "text": [
      "Recall/Sensitivity: 85.0 %\n",
      "\n"
     ]
    }
   ],
   "source": [
    "# Create a random forest Classifier. By convention, clf means 'Classifier'\n",
    "clf = RandomForestClassifier(random_state=0, n_jobs=-1)\n",
    "\n",
    "# Train the Classifier to take the training features and learn how they relate\n",
    "# to the training y (the species)\n",
    "clf.fit(X_train, y_train)\n",
    "\n",
    "# predict class labels for samples in the validation set\n",
    "y_pred_RandomForestClassifier=clf.predict(X_val)\n",
    "\n",
    "# parameters used by our current forest\n",
    "parameters_RandomForestClassifier = clf.get_params()\n",
    "print(parameters_RandomForestClassifier)\n",
    "\n",
    "# evaluation\n",
    "Performance_Metrics_RandomForestClassifier = model_evaluation(y_val, y_pred_RandomForestClassifier, class_labels)"
   ]
  },
  {
   "cell_type": "markdown",
   "metadata": {},
   "source": [
    "### Comparison"
   ]
  },
  {
   "cell_type": "code",
   "execution_count": 23,
   "metadata": {},
   "outputs": [],
   "source": [
    "# TP, TN, FP, FN, Accuracy, Sensitivity, Precision, F1"
   ]
  },
  {
   "cell_type": "code",
   "execution_count": 24,
   "metadata": {},
   "outputs": [
    {
     "data": {
      "text/plain": [
       "(409,\n",
       " 1832,\n",
       " 124,\n",
       " 251,\n",
       " 0.856651376146789,\n",
       " 0.6196969696969697,\n",
       " 0.7673545966228893,\n",
       " 0.685666387259011)"
      ]
     },
     "execution_count": 24,
     "metadata": {},
     "output_type": "execute_result"
    }
   ],
   "source": [
    "Performance_Metrics_LogisticRegression"
   ]
  },
  {
   "cell_type": "code",
   "execution_count": 25,
   "metadata": {},
   "outputs": [
    {
     "data": {
      "text/plain": [
       "(559,\n",
       " 1841,\n",
       " 115,\n",
       " 101,\n",
       " 0.9174311926605505,\n",
       " 0.8469696969696969,\n",
       " 0.8293768545994066,\n",
       " 0.83808095952024)"
      ]
     },
     "execution_count": 25,
     "metadata": {},
     "output_type": "execute_result"
    }
   ],
   "source": [
    "Performance_Metrics_RandomForestClassifier"
   ]
  },
  {
   "cell_type": "markdown",
   "metadata": {},
   "source": [
    "## Hyperparameter tuning"
   ]
  },
  {
   "cell_type": "code",
   "execution_count": 26,
   "metadata": {},
   "outputs": [],
   "source": [
    "pass"
   ]
  },
  {
   "cell_type": "markdown",
   "metadata": {},
   "source": [
    "# [EOF]"
   ]
  }
 ],
 "metadata": {
  "kernelspec": {
   "display_name": "Python 3",
   "language": "python",
   "name": "python3"
  },
  "language_info": {
   "codemirror_mode": {
    "name": "ipython",
    "version": 3
   },
   "file_extension": ".py",
   "mimetype": "text/x-python",
   "name": "python",
   "nbconvert_exporter": "python",
   "pygments_lexer": "ipython3",
   "version": "3.7.3"
  }
 },
 "nbformat": 4,
 "nbformat_minor": 2
}
