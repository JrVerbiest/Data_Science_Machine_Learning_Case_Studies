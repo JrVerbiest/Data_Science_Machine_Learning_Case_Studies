{
 "cells": [
  {
   "cell_type": "markdown",
   "metadata": {},
   "source": [
    "# Freesound General-Purpose Audio Tagging Challenge - Random Forest and MFCC\n",
    "<br>\n",
    "Last update: 19 June 2019<br> \n",
    "\n",
    "<br>\n",
    "\n",
    "**Backgound.**\n",
    "\n",
    "The challenge is to build a general-purpose automatic audio tagging system using a dataset of audio files covering a wide range of real-world environments. Sounds in the dataset include things like musical instruments, human sounds, domestic sounds, and animals from Freesound’s library, annotated using a vocabulary of more than 40 labels from Google’s AudioSet ontology.\n",
    "\n",
    "**Data fields.**\n",
    "\n",
    "Each row of the train.csv file contains the following information:\n",
    "\n",
    "- **fname:** the file name\n",
    "- **label:** the audio classification label (ground truth)\n",
    "- **manually_verified:** Boolean (1 or 0) flag to indicate whether or not that annotation has been manually verified\n",
    "<br>\n",
    "Dataset: [Freesound General-Purpose Audio Tagging Challenge 2018](https://www.kaggle.com/c/freesound-audio-tagging)\n",
    "\n",
    "___\n",
    "\n",
    "\n",
    "# This Notebook (**Bark** - **Meow**)\n",
    "\n",
    "In this notebook features, [Mel Frequency Ceptral Coefficient (MFCC)](https://en.wikipedia.org/wiki/Mel-frequency_cepstrum), are extracted from the audio signal and a classification (Random Forest) will be performed, only two labels are selected, **Bark** and **Meow**.\n",
    "\n",
    "___"
   ]
  },
  {
   "cell_type": "code",
   "execution_count": 27,
   "metadata": {},
   "outputs": [],
   "source": [
    "import numpy as np\n",
    "import pandas as pd\n",
    "import matplotlib.pyplot as plt\n",
    "import librosa.display\n",
    "from scipy.io import wavfile\n",
    "\n",
    "import os\n",
    "import IPython.display\n",
    "import sklearn\n",
    "import itertools\n",
    "\n",
    "from sklearn.model_selection import train_test_split\n",
    "from sklearn.linear_model import LogisticRegression\n",
    "from sklearn.ensemble import RandomForestClassifier\n",
    "from sklearn import metrics\n",
    "\n",
    "%matplotlib inline"
   ]
  },
  {
   "cell_type": "code",
   "execution_count": 2,
   "metadata": {},
   "outputs": [
    {
     "name": "stdout",
     "output_type": "stream",
     "text": [
      "windows\n"
     ]
    }
   ],
   "source": [
    "if os.name == 'nt':\n",
    "    print(\"windows\")\n",
    "    PATH_AUDIOWAV_TRAIN = \"./data/audio_train/\"\n",
    "    PATH_METADATA = \"./data/train_post_competition.csv\"\n",
    "else:\n",
    "    print(\"macOS\")\n",
    "    PATH_AUDIOWAV_TRAIN = \"./data/audio_train/\"\n",
    "    PATH_METADATA = \"./data/train_post_competition.csv\""
   ]
  },
  {
   "cell_type": "code",
   "execution_count": 25,
   "metadata": {},
   "outputs": [],
   "source": [
    "# ref.: http://scikit-learn.org/stable/auto_examples/model_selection/plot_confusion_matrix.html\n",
    "def plot_confusion_matrix(cm, classes,\n",
    "                          normalize=False,\n",
    "                          title='Confusion matrix',\n",
    "                          cmap=plt.cm.Blues):\n",
    "    \"\"\"\n",
    "    This function prints and plots the confusion matrix.\n",
    "    Normalization can be applied by setting `normalize=True`.\n",
    "    \"\"\"\n",
    "    if normalize:\n",
    "        cm = cm.astype('float') / cm.sum(axis=1)[:, np.newaxis]\n",
    "        print(\"Normalized confusion matrix\")\n",
    "    else:\n",
    "        print('Confusion matrix, without normalization')\n",
    "\n",
    "    # print(cm)\n",
    "\n",
    "    plt.imshow(cm, interpolation='nearest', cmap=cmap)\n",
    "    plt.title(title)\n",
    "    plt.colorbar()\n",
    "    tick_marks = np.arange(len(classes))\n",
    "    plt.xticks(tick_marks, classes, rotation=90)\n",
    "    plt.yticks(tick_marks, classes)\n",
    "\n",
    "    fmt = '.2f' if normalize else 'd'\n",
    "    thresh = cm.max() / 2.\n",
    "    for i, j in itertools.product(range(cm.shape[0]), range(cm.shape[1])):\n",
    "        plt.text(j, i, format(cm[i, j], fmt),\n",
    "                 horizontalalignment=\"center\",\n",
    "                 color=\"white\" if cm[i, j] > thresh else \"black\")\n",
    "\n",
    "    plt.ylabel('True label')\n",
    "    plt.xlabel('Predicted label')\n",
    "    plt.tight_layout()"
   ]
  },
  {
   "cell_type": "code",
   "execution_count": 3,
   "metadata": {},
   "outputs": [],
   "source": [
    "class AudioClip:\n",
    "    def __init__(self, path):\n",
    "        '''\n",
    "        :param fs: sample rata\n",
    "        :param data: audio\n",
    "        '''\n",
    "        samples, fs = librosa.load(path)\n",
    "        self.fs = fs\n",
    "        self.samples = samples\n",
    "        \n",
    "    def plot_waveform(self):\n",
    "        '''\n",
    "        plot the audioclip.\n",
    "        '''\n",
    "        plt.plot(np.arange(0, len(self.samples))/self.fs, self.samples)\n",
    "        plt.grid()\n",
    "        plt.show()\n",
    "        \n",
    "    def get_fs(self):\n",
    "        '''\n",
    "        return the audio clip sample frequency, fs\n",
    "        '''\n",
    "        return self.fs\n",
    "    \n",
    "    def get_samples(self):\n",
    "        '''\n",
    "        return the samples of the audio clip\n",
    "        '''\n",
    "        return self.samples\n",
    "    \n",
    "    # MFCC features\n",
    "    def get_logamplitude_melspectrogram(self):\n",
    "        return librosa.power_to_db(self.get_melspectrogram())\n",
    "    \n",
    "    def get_melspectrogram(self):\n",
    "        return librosa.feature.melspectrogram(self.samples, sr = self.fs)\n",
    "    \n",
    "    def get_mfcc(self, n_mfcc):\n",
    "        return librosa.feature.mfcc(S=self.get_logamplitude_melspectrogram(), n_mfcc = n_mfcc).transpose()\n",
    "    \n",
    "    def get_scaled_mean_mfcc(self, n_mfcc):\n",
    "        mfcc_scale = sklearn.preprocessing.scale(self.get_mfcc(n_mfcc), axis=1)\n",
    "        # Take the mean \n",
    "        return mfcc_scale.mean(axis=0)"
   ]
  },
  {
   "cell_type": "code",
   "execution_count": 4,
   "metadata": {},
   "outputs": [
    {
     "data": {
      "text/html": [
       "<div>\n",
       "<style scoped>\n",
       "    .dataframe tbody tr th:only-of-type {\n",
       "        vertical-align: middle;\n",
       "    }\n",
       "\n",
       "    .dataframe tbody tr th {\n",
       "        vertical-align: top;\n",
       "    }\n",
       "\n",
       "    .dataframe thead th {\n",
       "        text-align: right;\n",
       "    }\n",
       "</style>\n",
       "<table border=\"1\" class=\"dataframe\">\n",
       "  <thead>\n",
       "    <tr style=\"text-align: right;\">\n",
       "      <th></th>\n",
       "      <th>fname</th>\n",
       "      <th>label</th>\n",
       "      <th>manually_verified</th>\n",
       "      <th>freesound_id</th>\n",
       "      <th>license</th>\n",
       "    </tr>\n",
       "  </thead>\n",
       "  <tbody>\n",
       "    <tr>\n",
       "      <th>0</th>\n",
       "      <td>00044347.wav</td>\n",
       "      <td>Hi-hat</td>\n",
       "      <td>0</td>\n",
       "      <td>28739</td>\n",
       "      <td>Attribution</td>\n",
       "    </tr>\n",
       "    <tr>\n",
       "      <th>1</th>\n",
       "      <td>001ca53d.wav</td>\n",
       "      <td>Saxophone</td>\n",
       "      <td>1</td>\n",
       "      <td>358827</td>\n",
       "      <td>Attribution</td>\n",
       "    </tr>\n",
       "    <tr>\n",
       "      <th>2</th>\n",
       "      <td>002d256b.wav</td>\n",
       "      <td>Trumpet</td>\n",
       "      <td>0</td>\n",
       "      <td>10897</td>\n",
       "      <td>Creative Commons 0</td>\n",
       "    </tr>\n",
       "    <tr>\n",
       "      <th>3</th>\n",
       "      <td>0033e230.wav</td>\n",
       "      <td>Glockenspiel</td>\n",
       "      <td>1</td>\n",
       "      <td>325017</td>\n",
       "      <td>Attribution</td>\n",
       "    </tr>\n",
       "    <tr>\n",
       "      <th>4</th>\n",
       "      <td>00353774.wav</td>\n",
       "      <td>Cello</td>\n",
       "      <td>1</td>\n",
       "      <td>195688</td>\n",
       "      <td>Attribution</td>\n",
       "    </tr>\n",
       "  </tbody>\n",
       "</table>\n",
       "</div>"
      ],
      "text/plain": [
       "          fname         label  manually_verified  freesound_id  \\\n",
       "0  00044347.wav        Hi-hat                  0         28739   \n",
       "1  001ca53d.wav     Saxophone                  1        358827   \n",
       "2  002d256b.wav       Trumpet                  0         10897   \n",
       "3  0033e230.wav  Glockenspiel                  1        325017   \n",
       "4  00353774.wav         Cello                  1        195688   \n",
       "\n",
       "              license  \n",
       "0         Attribution  \n",
       "1         Attribution  \n",
       "2  Creative Commons 0  \n",
       "3         Attribution  \n",
       "4         Attribution  "
      ]
     },
     "execution_count": 4,
     "metadata": {},
     "output_type": "execute_result"
    }
   ],
   "source": [
    "meta_data = pd.read_csv(PATH_METADATA)\n",
    "meta_data.head()"
   ]
  },
  {
   "cell_type": "code",
   "execution_count": 5,
   "metadata": {},
   "outputs": [
    {
     "name": "stdout",
     "output_type": "stream",
     "text": [
      "Number of wave file in the train dataset: 9473\n"
     ]
    }
   ],
   "source": [
    "print('Number of wave file in the train dataset:', meta_data.shape[0])"
   ]
  },
  {
   "cell_type": "markdown",
   "metadata": {},
   "source": [
    "## Labels"
   ]
  },
  {
   "cell_type": "code",
   "execution_count": 6,
   "metadata": {},
   "outputs": [
    {
     "name": "stdout",
     "output_type": "stream",
     "text": [
      "['Saxophone', 'Snare_drum', 'Laughter', 'Tearing', 'Flute', 'Cello', 'Fart', 'Violin_or_fiddle', 'Shatter', 'Clarinet', 'Hi-hat', 'Squeak', 'Trumpet', 'Fireworks', 'Double_bass', 'Bass_drum', 'Acoustic_guitar', 'Applause', 'Oboe', 'Gong', 'Knock', 'Writing', 'Cough', 'Bark', 'Tambourine', 'Burping_or_eructation', 'Cowbell', 'Harmonica', 'Drawer_open_or_close', 'Meow', 'Electric_piano', 'Gunshot_or_gunfire', 'Microwave_oven', 'Keys_jangling', 'Telephone', 'Computer_keyboard', 'Finger_snapping', 'Chime', 'Bus', 'Scissors', 'Glockenspiel']\n"
     ]
    }
   ],
   "source": [
    "# list of labels\n",
    "print(list(meta_data.label.value_counts().index))"
   ]
  },
  {
   "cell_type": "code",
   "execution_count": 7,
   "metadata": {},
   "outputs": [
    {
     "data": {
      "image/png": "[encoded data removed]",
      "text/plain": [
       "<Figure size 1080x720 with 1 Axes>"
      ]
     },
     "metadata": {
      "needs_background": "light"
     },
     "output_type": "display_data"
    }
   ],
   "source": [
    "plt.figure(figsize=(15,10))\n",
    "meta_data.label.value_counts().plot(kind='bar', title='Counts');"
   ]
  },
  {
   "cell_type": "markdown",
   "metadata": {},
   "source": [
    "## Audio clip"
   ]
  },
  {
   "cell_type": "markdown",
   "metadata": {},
   "source": [
    "### Plot clip"
   ]
  },
  {
   "cell_type": "code",
   "execution_count": 8,
   "metadata": {},
   "outputs": [
    {
     "name": "stdout",
     "output_type": "stream",
     "text": [
      "754667cd.wav\n",
      "Category: Meow\n"
     ]
    },
    {
     "data": {
      "image/png": "[encoded data removed]",
      "text/plain": [
       "<Figure size 432x288 with 1 Axes>"
      ]
     },
     "metadata": {
      "needs_background": "light"
     },
     "output_type": "display_data"
    },
    {
     "data": {
      "text/html": [
       "\n",
       "                <audio  controls=\"controls\" >\n",
       "                    <source src=\"data:audio/wav;base64,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\" type=\"audio/wav\" />\n",
       "                    Your browser does not support the audio element.\n",
       "                </audio>\n",
       "              "
      ],
      "text/plain": [
       "<IPython.lib.display.Audio object>"
      ]
     },
     "execution_count": 8,
     "metadata": {},
     "output_type": "execute_result"
    }
   ],
   "source": [
    "file_number = 4325\n",
    "\n",
    "print(meta_data.fname[file_number])\n",
    "print('Category:', meta_data.label[file_number])\n",
    "\n",
    "AudioClip(PATH_AUDIOWAV_TRAIN + meta_data.fname[file_number]).plot_waveform()\n",
    "\n",
    "IPython.display.Audio(AudioClip(PATH_AUDIOWAV_TRAIN + meta_data.fname[file_number]).get_samples(), rate = AudioClip(PATH_AUDIOWAV_TRAIN + meta_data.fname[file_number]).get_fs())"
   ]
  },
  {
   "cell_type": "markdown",
   "metadata": {},
   "source": [
    "### MFCC\n",
    "\n",
    "[Mel Frequency Ceptral Coefficient (MFCC)](https://en.wikipedia.org/wiki/Mel-frequency_cepstrum) "
   ]
  },
  {
   "cell_type": "code",
   "execution_count": 9,
   "metadata": {},
   "outputs": [
    {
     "name": "stdout",
     "output_type": "stream",
     "text": [
      "754667cd.wav\n",
      "Category: Meow\n"
     ]
    },
    {
     "data": {
      "image/png": "[encoded data removed]",
      "text/plain": [
       "<Figure size 576x864 with 3 Axes>"
      ]
     },
     "metadata": {
      "needs_background": "light"
     },
     "output_type": "display_data"
    }
   ],
   "source": [
    "file_number = 4325\n",
    "\n",
    "print(meta_data.fname[file_number])\n",
    "print('Category:', meta_data.label[file_number])\n",
    "\n",
    "signal = AudioClip(PATH_AUDIOWAV_TRAIN + meta_data.fname[file_number])\n",
    "\n",
    "n_mfcc = 13\n",
    "\n",
    "plt.figure(figsize=(8,12))\n",
    "\n",
    "plt.subplot(3,1,1)\n",
    "librosa.display.specshow(signal.get_logamplitude_melspectrogram(), sr=signal.get_fs(), x_axis='frames', y_axis='linear', cmap='RdBu_r');\n",
    "\n",
    "plt.subplot(3,1,2)\n",
    "librosa.display.specshow(signal.get_mfcc(n_mfcc), sr=signal.get_fs(), x_axis='time', cmap='RdBu_r');\n",
    "\n",
    "plt.subplot(3,1,3)\n",
    "plt.plot(signal.get_scaled_mean_mfcc(n_mfcc));\n",
    "plt.grid()"
   ]
  },
  {
   "cell_type": "markdown",
   "metadata": {},
   "source": [
    "## *.Wav selection\n",
    "\n",
    "The two labels are: **Bark** and **Meow**."
   ]
  },
  {
   "cell_type": "code",
   "execution_count": 10,
   "metadata": {},
   "outputs": [
    {
     "data": {
      "text/html": [
       "<div>\n",
       "<style scoped>\n",
       "    .dataframe tbody tr th:only-of-type {\n",
       "        vertical-align: middle;\n",
       "    }\n",
       "\n",
       "    .dataframe tbody tr th {\n",
       "        vertical-align: top;\n",
       "    }\n",
       "\n",
       "    .dataframe thead th {\n",
       "        text-align: right;\n",
       "    }\n",
       "</style>\n",
       "<table border=\"1\" class=\"dataframe\">\n",
       "  <thead>\n",
       "    <tr style=\"text-align: right;\">\n",
       "      <th></th>\n",
       "      <th>fname</th>\n",
       "      <th>label</th>\n",
       "      <th>manually_verified</th>\n",
       "      <th>freesound_id</th>\n",
       "      <th>license</th>\n",
       "    </tr>\n",
       "  </thead>\n",
       "  <tbody>\n",
       "    <tr>\n",
       "      <th>27</th>\n",
       "      <td>00e2b4cd.wav</td>\n",
       "      <td>Bark</td>\n",
       "      <td>1</td>\n",
       "      <td>344955</td>\n",
       "      <td>Creative Commons 0</td>\n",
       "    </tr>\n",
       "    <tr>\n",
       "      <th>54</th>\n",
       "      <td>019d2a2c.wav</td>\n",
       "      <td>Bark</td>\n",
       "      <td>1</td>\n",
       "      <td>89211</td>\n",
       "      <td>Creative Commons 0</td>\n",
       "    </tr>\n",
       "    <tr>\n",
       "      <th>70</th>\n",
       "      <td>020eb9f6.wav</td>\n",
       "      <td>Bark</td>\n",
       "      <td>1</td>\n",
       "      <td>4910</td>\n",
       "      <td>Attribution</td>\n",
       "    </tr>\n",
       "    <tr>\n",
       "      <th>94</th>\n",
       "      <td>027cd3fd.wav</td>\n",
       "      <td>Meow</td>\n",
       "      <td>1</td>\n",
       "      <td>118522</td>\n",
       "      <td>Creative Commons 0</td>\n",
       "    </tr>\n",
       "    <tr>\n",
       "      <th>125</th>\n",
       "      <td>03b4aca1.wav</td>\n",
       "      <td>Meow</td>\n",
       "      <td>1</td>\n",
       "      <td>203121</td>\n",
       "      <td>Attribution</td>\n",
       "    </tr>\n",
       "  </tbody>\n",
       "</table>\n",
       "</div>"
      ],
      "text/plain": [
       "            fname label  manually_verified  freesound_id             license\n",
       "27   00e2b4cd.wav  Bark                  1        344955  Creative Commons 0\n",
       "54   019d2a2c.wav  Bark                  1         89211  Creative Commons 0\n",
       "70   020eb9f6.wav  Bark                  1          4910         Attribution\n",
       "94   027cd3fd.wav  Meow                  1        118522  Creative Commons 0\n",
       "125  03b4aca1.wav  Meow                  1        203121         Attribution"
      ]
     },
     "execution_count": 10,
     "metadata": {},
     "output_type": "execute_result"
    }
   ],
   "source": [
    "meta_data_bark_meow = meta_data[meta_data.label.isin(['Bark','Meow'])]\n",
    "meta_data_bark_meow.head()"
   ]
  },
  {
   "cell_type": "code",
   "execution_count": 11,
   "metadata": {},
   "outputs": [
    {
     "data": {
      "text/plain": [
       "Bark    239\n",
       "Meow    155\n",
       "Name: label, dtype: int64"
      ]
     },
     "execution_count": 11,
     "metadata": {},
     "output_type": "execute_result"
    }
   ],
   "source": [
    "meta_data_bark_meow.label.value_counts()"
   ]
  },
  {
   "cell_type": "code",
   "execution_count": 12,
   "metadata": {},
   "outputs": [
    {
     "name": "stdout",
     "output_type": "stream",
     "text": [
      "% Bark: 60.65989847715736\n",
      "% Meow: 39.34010152284264\n"
     ]
    }
   ],
   "source": [
    "count = meta_data_bark_meow.label.value_counts()\n",
    "print('% Bark:', 100* count.tolist()[0]/meta_data_bark_meow.shape[0])\n",
    "print('% Meow:', 100* count.tolist()[1]/meta_data_bark_meow.shape[0])"
   ]
  },
  {
   "cell_type": "markdown",
   "metadata": {},
   "source": [
    "Ratio: Bark/Meow is 60/40. "
   ]
  },
  {
   "cell_type": "markdown",
   "metadata": {},
   "source": [
    "## Extract feature"
   ]
  },
  {
   "cell_type": "code",
   "execution_count": 13,
   "metadata": {
    "scrolled": false
   },
   "outputs": [
    {
     "name": "stdout",
     "output_type": "stream",
     "text": [
      "File: 27 , Path: ./data/audio_train/00e2b4cd.wav , label: Bark\n",
      "File: 54 , Path: ./data/audio_train/019d2a2c.wav , label: Bark\n",
      "File: 70 , Path: ./data/audio_train/020eb9f6.wav , label: Bark\n",
      "File: 94 , Path: ./data/audio_train/027cd3fd.wav , label: Meow\n",
      "File: 125 , Path: ./data/audio_train/03b4aca1.wav , label: Meow\n",
      "File: 152 , Path: ./data/audio_train/0457d8bc.wav , label: Bark\n",
      "File: 162 , Path: ./data/audio_train/04ab05a7.wav , label: Bark\n",
      "File: 175 , Path: ./data/audio_train/05173c4d.wav , label: Bark\n",
      "File: 231 , Path: ./data/audio_train/06dd3b18.wav , label: Bark\n",
      "File: 233 , Path: ./data/audio_train/06e87b61.wav , label: Bark\n",
      "File: 241 , Path: ./data/audio_train/0704ffb8.wav , label: Bark\n",
      "File: 260 , Path: ./data/audio_train/07605b4c.wav , label: Bark\n",
      "File: 293 , Path: ./data/audio_train/086dfaff.wav , label: Bark\n",
      "File: 308 , Path: ./data/audio_train/08cf2d2b.wav , label: Bark\n",
      "File: 321 , Path: ./data/audio_train/0939d783.wav , label: Bark\n",
      "File: 330 , Path: ./data/audio_train/098a3205.wav , label: Bark\n",
      "File: 355 , Path: ./data/audio_train/0a32271b.wav , label: Meow\n",
      "File: 373 , Path: ./data/audio_train/0ac443ad.wav , label: Bark\n",
      "File: 402 , Path: ./data/audio_train/0b7f8989.wav , label: Bark\n",
      "File: 405 , Path: ./data/audio_train/0b914d51.wav , label: Meow\n",
      "File: 424 , Path: ./data/audio_train/0c0f796c.wav , label: Meow\n",
      "File: 469 , Path: ./data/audio_train/0d79765a.wav , label: Bark\n",
      "File: 523 , Path: ./data/audio_train/0f274e7a.wav , label: Meow\n",
      "File: 551 , Path: ./data/audio_train/0ff6fdf5.wav , label: Bark\n",
      "File: 598 , Path: ./data/audio_train/11439cbd.wav , label: Bark\n",
      "File: 626 , Path: ./data/audio_train/11cf5942.wav , label: Bark\n",
      "File: 642 , Path: ./data/audio_train/120e0846.wav , label: Bark\n",
      "File: 652 , Path: ./data/audio_train/1238c3a4.wav , label: Meow\n",
      "File: 686 , Path: ./data/audio_train/13903b82.wav , label: Meow\n",
      "File: 687 , Path: ./data/audio_train/1391883f.wav , label: Bark\n",
      "File: 697 , Path: ./data/audio_train/13ee6c44.wav , label: Bark\n",
      "File: 700 , Path: ./data/audio_train/1401c7ff.wav , label: Bark\n",
      "File: 716 , Path: ./data/audio_train/146d5e25.wav , label: Bark\n",
      "File: 720 , Path: ./data/audio_train/147f61ff.wav , label: Bark\n",
      "File: 735 , Path: ./data/audio_train/14e1442c.wav , label: Bark\n",
      "File: 739 , Path: ./data/audio_train/14ef39a2.wav , label: Meow\n",
      "File: 741 , Path: ./data/audio_train/14f26483.wav , label: Bark\n",
      "File: 783 , Path: ./data/audio_train/161bd007.wav , label: Bark\n",
      "File: 822 , Path: ./data/audio_train/16e4d91a.wav , label: Bark\n",
      "File: 829 , Path: ./data/audio_train/170946f3.wav , label: Meow\n",
      "File: 842 , Path: ./data/audio_train/1760ba6f.wav , label: Meow\n",
      "File: 846 , Path: ./data/audio_train/176c5f52.wav , label: Bark\n",
      "File: 878 , Path: ./data/audio_train/18683b52.wav , label: Bark\n",
      "File: 891 , Path: ./data/audio_train/18ab257b.wav , label: Bark\n",
      "File: 894 , Path: ./data/audio_train/18c0fa51.wav , label: Bark\n",
      "File: 898 , Path: ./data/audio_train/18e0f7ac.wav , label: Bark\n",
      "File: 942 , Path: ./data/audio_train/19fc7498.wav , label: Meow\n",
      "File: 976 , Path: ./data/audio_train/1ae93472.wav , label: Meow\n",
      "File: 1060 , Path: ./data/audio_train/1d28b9cb.wav , label: Bark\n",
      "File: 1068 , Path: ./data/audio_train/1d8502f5.wav , label: Bark\n",
      "File: 1098 , Path: ./data/audio_train/1e5fd361.wav , label: Bark\n",
      "File: 1115 , Path: ./data/audio_train/1ee68efd.wav , label: Bark\n",
      "File: 1138 , Path: ./data/audio_train/1fac40bb.wav , label: Meow\n",
      "File: 1227 , Path: ./data/audio_train/21e48c3b.wav , label: Meow\n",
      "File: 1278 , Path: ./data/audio_train/234f95ec.wav , label: Bark\n",
      "File: 1311 , Path: ./data/audio_train/2405de39.wav , label: Meow\n",
      "File: 1339 , Path: ./data/audio_train/24e8a804.wav , label: Bark\n",
      "File: 1368 , Path: ./data/audio_train/25a8c380.wav , label: Meow\n",
      "File: 1446 , Path: ./data/audio_train/27a0f9ed.wav , label: Bark\n",
      "File: 1448 , Path: ./data/audio_train/27a962c5.wav , label: Meow\n",
      "File: 1466 , Path: ./data/audio_train/28492d31.wav , label: Bark\n",
      "File: 1536 , Path: ./data/audio_train/2a1540b1.wav , label: Meow\n",
      "File: 1546 , Path: ./data/audio_train/2a72b20b.wav , label: Bark\n",
      "File: 1556 , Path: ./data/audio_train/2aad886a.wav , label: Bark\n",
      "File: 1561 , Path: ./data/audio_train/2ad59d34.wav , label: Meow\n",
      "File: 1569 , Path: ./data/audio_train/2b13754b.wav , label: Bark\n",
      "File: 1579 , Path: ./data/audio_train/2b49c53e.wav , label: Bark\n",
      "File: 1580 , Path: ./data/audio_train/2b4e910e.wav , label: Bark\n",
      "File: 1587 , Path: ./data/audio_train/2bb21942.wav , label: Bark\n",
      "File: 1599 , Path: ./data/audio_train/2c0e354c.wav , label: Bark\n",
      "File: 1601 , Path: ./data/audio_train/2c1af1c2.wav , label: Meow\n",
      "File: 1658 , Path: ./data/audio_train/2d9fcebb.wav , label: Bark\n",
      "File: 1670 , Path: ./data/audio_train/2e150054.wav , label: Meow\n",
      "File: 1678 , Path: ./data/audio_train/2e35864b.wav , label: Meow\n",
      "File: 1741 , Path: ./data/audio_train/30619f79.wav , label: Meow\n",
      "File: 1767 , Path: ./data/audio_train/31320e98.wav , label: Bark\n",
      "File: 1825 , Path: ./data/audio_train/327fea32.wav , label: Bark\n",
      "File: 1859 , Path: ./data/audio_train/33a40fbe.wav , label: Meow\n",
      "File: 1927 , Path: ./data/audio_train/357a5b9a.wav , label: Bark\n",
      "File: 1935 , Path: ./data/audio_train/35a38d01.wav , label: Bark\n",
      "File: 1973 , Path: ./data/audio_train/367e990f.wav , label: Bark\n",
      "File: 2007 , Path: ./data/audio_train/375bfb8e.wav , label: Meow\n",
      "File: 2022 , Path: ./data/audio_train/37d5d788.wav , label: Meow\n",
      "File: 2032 , Path: ./data/audio_train/3804ed01.wav , label: Bark\n",
      "File: 2034 , Path: ./data/audio_train/3811852f.wav , label: Bark\n",
      "File: 2052 , Path: ./data/audio_train/388093aa.wav , label: Bark\n",
      "File: 2077 , Path: ./data/audio_train/391dea43.wav , label: Bark\n",
      "File: 2079 , Path: ./data/audio_train/392882a3.wav , label: Meow\n",
      "File: 2100 , Path: ./data/audio_train/39daded1.wav , label: Bark\n",
      "File: 2123 , Path: ./data/audio_train/3a4abb1d.wav , label: Bark\n",
      "File: 2128 , Path: ./data/audio_train/3a7f4b9f.wav , label: Bark\n",
      "File: 2152 , Path: ./data/audio_train/3b04a2b1.wav , label: Bark\n",
      "File: 2189 , Path: ./data/audio_train/3c002b9b.wav , label: Bark\n",
      "File: 2192 , Path: ./data/audio_train/3c200451.wav , label: Bark\n",
      "File: 2245 , Path: ./data/audio_train/3d4fcc98.wav , label: Bark\n",
      "File: 2311 , Path: ./data/audio_train/3f272bc9.wav , label: Bark\n",
      "File: 2316 , Path: ./data/audio_train/3f3f7481.wav , label: Bark\n",
      "File: 2331 , Path: ./data/audio_train/3f9adde5.wav , label: Bark\n",
      "File: 2356 , Path: ./data/audio_train/405b6af2.wav , label: Bark\n",
      "File: 2358 , Path: ./data/audio_train/40733d4e.wav , label: Meow\n",
      "File: 2377 , Path: ./data/audio_train/410b8cc3.wav , label: Bark\n",
      "File: 2380 , Path: ./data/audio_train/41264c8a.wav , label: Bark\n",
      "File: 2409 , Path: ./data/audio_train/4217d933.wav , label: Bark\n",
      "File: 2449 , Path: ./data/audio_train/430cb829.wav , label: Bark\n",
      "File: 2460 , Path: ./data/audio_train/43523546.wav , label: Bark\n",
      "File: 2479 , Path: ./data/audio_train/43d0fe93.wav , label: Bark\n",
      "File: 2492 , Path: ./data/audio_train/442490bc.wav , label: Meow\n",
      "File: 2498 , Path: ./data/audio_train/445b88ad.wav , label: Bark\n",
      "File: 2501 , Path: ./data/audio_train/44911b70.wav , label: Meow\n",
      "File: 2520 , Path: ./data/audio_train/4509d8c8.wav , label: Meow\n",
      "File: 2561 , Path: ./data/audio_train/46076458.wav , label: Meow\n",
      "File: 2566 , Path: ./data/audio_train/4629e77b.wav , label: Meow\n",
      "File: 2569 , Path: ./data/audio_train/464c651e.wav , label: Meow\n",
      "File: 2611 , Path: ./data/audio_train/47797e57.wav , label: Bark\n",
      "File: 2677 , Path: ./data/audio_train/4900d8a0.wav , label: Bark\n",
      "File: 2686 , Path: ./data/audio_train/49345c2f.wav , label: Meow\n",
      "File: 2710 , Path: ./data/audio_train/49d51b77.wav , label: Meow\n",
      "File: 2769 , Path: ./data/audio_train/4b166997.wav , label: Meow\n",
      "File: 2796 , Path: ./data/audio_train/4bf0c44b.wav , label: Meow\n",
      "File: 2827 , Path: ./data/audio_train/4c9112c0.wav , label: Bark\n",
      "File: 2828 , Path: ./data/audio_train/4c9c19b0.wav , label: Bark\n",
      "File: 2833 , Path: ./data/audio_train/4ca93593.wav , label: Bark\n",
      "File: 2840 , Path: ./data/audio_train/4cc1da2f.wav , label: Bark\n",
      "File: 2842 , Path: ./data/audio_train/4ccf85c8.wav , label: Meow\n",
      "File: 2868 , Path: ./data/audio_train/4d5430cf.wav , label: Bark\n",
      "File: 2938 , Path: ./data/audio_train/4f5a5cd7.wav , label: Meow\n",
      "File: 2985 , Path: ./data/audio_train/50917ab0.wav , label: Bark\n",
      "File: 2995 , Path: ./data/audio_train/50d356da.wav , label: Bark\n"
     ]
    },
    {
     "name": "stdout",
     "output_type": "stream",
     "text": [
      "File: 3005 , Path: ./data/audio_train/511fb54a.wav , label: Bark\n",
      "File: 3024 , Path: ./data/audio_train/519b068d.wav , label: Bark\n",
      "File: 3043 , Path: ./data/audio_train/52127914.wav , label: Meow\n",
      "File: 3077 , Path: ./data/audio_train/52efdfdd.wav , label: Meow\n",
      "File: 3129 , Path: ./data/audio_train/546416c0.wav , label: Bark\n",
      "File: 3155 , Path: ./data/audio_train/54f4ed65.wav , label: Bark\n",
      "File: 3180 , Path: ./data/audio_train/55b7b452.wav , label: Meow\n",
      "File: 3215 , Path: ./data/audio_train/569ee690.wav , label: Bark\n",
      "File: 3239 , Path: ./data/audio_train/574d304d.wav , label: Bark\n",
      "File: 3286 , Path: ./data/audio_train/58c581a3.wav , label: Bark\n",
      "File: 3317 , Path: ./data/audio_train/59667f26.wav , label: Bark\n",
      "File: 3344 , Path: ./data/audio_train/5a4404c9.wav , label: Bark\n",
      "File: 3359 , Path: ./data/audio_train/5aa8b633.wav , label: Meow\n",
      "File: 3360 , Path: ./data/audio_train/5aabae55.wav , label: Bark\n",
      "File: 3393 , Path: ./data/audio_train/5baff24a.wav , label: Bark\n",
      "File: 3482 , Path: ./data/audio_train/5d939814.wav , label: Bark\n",
      "File: 3513 , Path: ./data/audio_train/5e879961.wav , label: Meow\n",
      "File: 3518 , Path: ./data/audio_train/5ea18a36.wav , label: Meow\n",
      "File: 3524 , Path: ./data/audio_train/5ec49ef4.wav , label: Bark\n",
      "File: 3656 , Path: ./data/audio_train/62a22795.wav , label: Meow\n",
      "File: 3669 , Path: ./data/audio_train/63043359.wav , label: Meow\n",
      "File: 3702 , Path: ./data/audio_train/63db2898.wav , label: Bark\n",
      "File: 3710 , Path: ./data/audio_train/6412f485.wav , label: Bark\n",
      "File: 3747 , Path: ./data/audio_train/64de2033.wav , label: Bark\n",
      "File: 3749 , Path: ./data/audio_train/64e4c75b.wav , label: Bark\n",
      "File: 3780 , Path: ./data/audio_train/65de6350.wav , label: Bark\n",
      "File: 3806 , Path: ./data/audio_train/66af2f72.wav , label: Bark\n",
      "File: 3808 , Path: ./data/audio_train/66b65fff.wav , label: Meow\n",
      "File: 3823 , Path: ./data/audio_train/67066eb2.wav , label: Meow\n",
      "File: 3831 , Path: ./data/audio_train/674b6f0f.wav , label: Meow\n",
      "File: 3838 , Path: ./data/audio_train/67c69330.wav , label: Bark\n",
      "File: 3877 , Path: ./data/audio_train/68d8b3fd.wav , label: Meow\n",
      "File: 3878 , Path: ./data/audio_train/68ddd963.wav , label: Bark\n",
      "File: 3893 , Path: ./data/audio_train/6934efec.wav , label: Meow\n",
      "File: 3952 , Path: ./data/audio_train/6a887ffa.wav , label: Meow\n",
      "File: 3987 , Path: ./data/audio_train/6b28b873.wav , label: Bark\n",
      "File: 4028 , Path: ./data/audio_train/6c84907a.wav , label: Bark\n",
      "File: 4039 , Path: ./data/audio_train/6ccf7c29.wav , label: Meow\n",
      "File: 4098 , Path: ./data/audio_train/6ea1b08a.wav , label: Meow\n",
      "File: 4161 , Path: ./data/audio_train/7096f285.wav , label: Meow\n",
      "File: 4182 , Path: ./data/audio_train/70fb1d65.wav , label: Bark\n",
      "File: 4195 , Path: ./data/audio_train/716e4cae.wav , label: Bark\n",
      "File: 4200 , Path: ./data/audio_train/71964cc8.wav , label: Meow\n",
      "File: 4208 , Path: ./data/audio_train/71ca662a.wav , label: Bark\n",
      "File: 4227 , Path: ./data/audio_train/7262a499.wav , label: Bark\n",
      "File: 4240 , Path: ./data/audio_train/72d85cdf.wav , label: Bark\n",
      "File: 4325 , Path: ./data/audio_train/754667cd.wav , label: Meow\n",
      "File: 4341 , Path: ./data/audio_train/758ed798.wav , label: Meow\n",
      "File: 4361 , Path: ./data/audio_train/765339ec.wav , label: Bark\n",
      "File: 4437 , Path: ./data/audio_train/786ee883.wav , label: Bark\n",
      "File: 4476 , Path: ./data/audio_train/799055b8.wav , label: Meow\n",
      "File: 4489 , Path: ./data/audio_train/79cc9b98.wav , label: Meow\n",
      "File: 4512 , Path: ./data/audio_train/7a515659.wav , label: Meow\n",
      "File: 4517 , Path: ./data/audio_train/7a6d71fc.wav , label: Meow\n",
      "File: 4533 , Path: ./data/audio_train/7ab5800d.wav , label: Meow\n",
      "File: 4550 , Path: ./data/audio_train/7afbf017.wav , label: Bark\n",
      "File: 4568 , Path: ./data/audio_train/7b6f44ff.wav , label: Meow\n",
      "File: 4635 , Path: ./data/audio_train/7d4c5e77.wav , label: Meow\n",
      "File: 4661 , Path: ./data/audio_train/7e3411ef.wav , label: Bark\n",
      "File: 4712 , Path: ./data/audio_train/7f70f1a1.wav , label: Bark\n",
      "File: 4725 , Path: ./data/audio_train/7fd46eaa.wav , label: Meow\n",
      "File: 4758 , Path: ./data/audio_train/80a3da4a.wav , label: Bark\n",
      "File: 4792 , Path: ./data/audio_train/81982d20.wav , label: Bark\n",
      "File: 4803 , Path: ./data/audio_train/81d516e0.wav , label: Meow\n",
      "File: 4809 , Path: ./data/audio_train/81debe3a.wav , label: Bark\n",
      "File: 4877 , Path: ./data/audio_train/83600384.wav , label: Bark\n",
      "File: 4933 , Path: ./data/audio_train/85283172.wav , label: Bark\n",
      "File: 4934 , Path: ./data/audio_train/85313bfa.wav , label: Meow\n",
      "File: 4974 , Path: ./data/audio_train/8606ec28.wav , label: Bark\n",
      "File: 4986 , Path: ./data/audio_train/86692bfd.wav , label: Bark\n",
      "File: 5006 , Path: ./data/audio_train/871c860e.wav , label: Bark\n",
      "File: 5013 , Path: ./data/audio_train/876cd66b.wav , label: Meow\n",
      "File: 5021 , Path: ./data/audio_train/87a12c75.wav , label: Bark\n",
      "File: 5071 , Path: ./data/audio_train/89515baf.wav , label: Meow\n",
      "File: 5114 , Path: ./data/audio_train/8a9c77de.wav , label: Bark\n",
      "File: 5172 , Path: ./data/audio_train/8c5de0f8.wav , label: Meow\n",
      "File: 5187 , Path: ./data/audio_train/8cc7897c.wav , label: Bark\n",
      "File: 5196 , Path: ./data/audio_train/8d089129.wav , label: Bark\n",
      "File: 5210 , Path: ./data/audio_train/8d50a022.wav , label: Bark\n",
      "File: 5242 , Path: ./data/audio_train/8e07e2e1.wav , label: Bark\n",
      "File: 5260 , Path: ./data/audio_train/8e58f5e5.wav , label: Bark\n",
      "File: 5281 , Path: ./data/audio_train/8f0a4562.wav , label: Bark\n",
      "File: 5400 , Path: ./data/audio_train/92a6a9e7.wav , label: Bark\n",
      "File: 5407 , Path: ./data/audio_train/92fd0236.wav , label: Bark\n",
      "File: 5420 , Path: ./data/audio_train/9325ce28.wav , label: Bark\n",
      "File: 5427 , Path: ./data/audio_train/936bdcd7.wav , label: Bark\n",
      "File: 5442 , Path: ./data/audio_train/9417a0cd.wav , label: Meow\n",
      "File: 5467 , Path: ./data/audio_train/94d302ef.wav , label: Bark\n",
      "File: 5498 , Path: ./data/audio_train/95a6c975.wav , label: Meow\n",
      "File: 5513 , Path: ./data/audio_train/9628f165.wav , label: Bark\n",
      "File: 5520 , Path: ./data/audio_train/9656f532.wav , label: Bark\n",
      "File: 5628 , Path: ./data/audio_train/99680597.wav , label: Bark\n",
      "File: 5635 , Path: ./data/audio_train/99b03726.wav , label: Meow\n",
      "File: 5637 , Path: ./data/audio_train/99b6b48a.wav , label: Meow\n",
      "File: 5716 , Path: ./data/audio_train/9bf40e11.wav , label: Bark\n",
      "File: 5720 , Path: ./data/audio_train/9c0cf859.wav , label: Meow\n",
      "File: 5797 , Path: ./data/audio_train/9e1ed2eb.wav , label: Bark\n",
      "File: 5839 , Path: ./data/audio_train/9f6070d8.wav , label: Bark\n",
      "File: 5885 , Path: ./data/audio_train/a0715eb8.wav , label: Meow\n",
      "File: 5896 , Path: ./data/audio_train/a0eb3d76.wav , label: Bark\n",
      "File: 5910 , Path: ./data/audio_train/a146cb0d.wav , label: Meow\n",
      "File: 5911 , Path: ./data/audio_train/a14bd62a.wav , label: Meow\n",
      "File: 5938 , Path: ./data/audio_train/a1e6c805.wav , label: Meow\n",
      "File: 5948 , Path: ./data/audio_train/a22eb75a.wav , label: Bark\n",
      "File: 5967 , Path: ./data/audio_train/a2a0187a.wav , label: Bark\n",
      "File: 5968 , Path: ./data/audio_train/a2a95496.wav , label: Bark\n",
      "File: 5969 , Path: ./data/audio_train/a2abaed4.wav , label: Meow\n",
      "File: 6039 , Path: ./data/audio_train/a49d8f2d.wav , label: Bark\n",
      "File: 6065 , Path: ./data/audio_train/a5736387.wav , label: Bark\n",
      "File: 6078 , Path: ./data/audio_train/a5b893e6.wav , label: Meow\n",
      "File: 6105 , Path: ./data/audio_train/a646868c.wav , label: Bark\n",
      "File: 6109 , Path: ./data/audio_train/a6526124.wav , label: Meow\n",
      "File: 6136 , Path: ./data/audio_train/a77c8c00.wav , label: Bark\n",
      "File: 6196 , Path: ./data/audio_train/a94a1787.wav , label: Meow\n",
      "File: 6202 , Path: ./data/audio_train/a9812fbd.wav , label: Bark\n",
      "File: 6207 , Path: ./data/audio_train/a9be5059.wav , label: Bark\n",
      "File: 6224 , Path: ./data/audio_train/aa5bf7d3.wav , label: Bark\n",
      "File: 6237 , Path: ./data/audio_train/aac2cd6e.wav , label: Meow\n",
      "File: 6246 , Path: ./data/audio_train/aaf32210.wav , label: Meow\n",
      "File: 6258 , Path: ./data/audio_train/ab35fb1c.wav , label: Meow\n",
      "File: 6264 , Path: ./data/audio_train/ab6bfce9.wav , label: Meow\n",
      "File: 6280 , Path: ./data/audio_train/abf52b5c.wav , label: Bark\n",
      "File: 6322 , Path: ./data/audio_train/ace78db8.wav , label: Bark\n",
      "File: 6355 , Path: ./data/audio_train/ae046a29.wav , label: Bark\n",
      "File: 6360 , Path: ./data/audio_train/ae1d4a4b.wav , label: Meow\n",
      "File: 6385 , Path: ./data/audio_train/aea3d36d.wav , label: Bark\n",
      "File: 6451 , Path: ./data/audio_train/b03e05a6.wav , label: Bark\n",
      "File: 6477 , Path: ./data/audio_train/b103d3b5.wav , label: Bark\n"
     ]
    },
    {
     "name": "stdout",
     "output_type": "stream",
     "text": [
      "File: 6506 , Path: ./data/audio_train/b1e3de31.wav , label: Meow\n",
      "File: 6511 , Path: ./data/audio_train/b206d981.wav , label: Meow\n",
      "File: 6529 , Path: ./data/audio_train/b2ba9028.wav , label: Meow\n",
      "File: 6589 , Path: ./data/audio_train/b41d03ad.wav , label: Bark\n",
      "File: 6614 , Path: ./data/audio_train/b4c891db.wav , label: Meow\n",
      "File: 6640 , Path: ./data/audio_train/b54cc509.wav , label: Meow\n",
      "File: 6673 , Path: ./data/audio_train/b6383321.wav , label: Bark\n",
      "File: 6702 , Path: ./data/audio_train/b6f5bb24.wav , label: Bark\n",
      "File: 6708 , Path: ./data/audio_train/b7169927.wav , label: Bark\n",
      "File: 6744 , Path: ./data/audio_train/b7f2e8ad.wav , label: Bark\n",
      "File: 6747 , Path: ./data/audio_train/b7fbbe04.wav , label: Bark\n",
      "File: 6749 , Path: ./data/audio_train/b808471e.wav , label: Bark\n",
      "File: 6861 , Path: ./data/audio_train/bb1e58c6.wav , label: Bark\n",
      "File: 6880 , Path: ./data/audio_train/bb5e623d.wav , label: Meow\n",
      "File: 6918 , Path: ./data/audio_train/bc9449d2.wav , label: Bark\n",
      "File: 6931 , Path: ./data/audio_train/bd251008.wav , label: Bark\n",
      "File: 6954 , Path: ./data/audio_train/bdeb67d0.wav , label: Bark\n",
      "File: 6975 , Path: ./data/audio_train/be72f72e.wav , label: Bark\n",
      "File: 6996 , Path: ./data/audio_train/bece203c.wav , label: Meow\n",
      "File: 7014 , Path: ./data/audio_train/bf3cbeed.wav , label: Meow\n",
      "File: 7033 , Path: ./data/audio_train/bfb17663.wav , label: Meow\n",
      "File: 7041 , Path: ./data/audio_train/bfebf408.wav , label: Bark\n",
      "File: 7048 , Path: ./data/audio_train/c0031dcf.wav , label: Meow\n",
      "File: 7130 , Path: ./data/audio_train/c1a111fc.wav , label: Meow\n",
      "File: 7147 , Path: ./data/audio_train/c2186e8e.wav , label: Meow\n",
      "File: 7148 , Path: ./data/audio_train/c22d6f90.wav , label: Bark\n",
      "File: 7155 , Path: ./data/audio_train/c2683452.wav , label: Meow\n",
      "File: 7206 , Path: ./data/audio_train/c3c4fc41.wav , label: Bark\n",
      "File: 7261 , Path: ./data/audio_train/c53125c8.wav , label: Bark\n",
      "File: 7285 , Path: ./data/audio_train/c5f6a173.wav , label: Bark\n",
      "File: 7294 , Path: ./data/audio_train/c6309fe4.wav , label: Bark\n",
      "File: 7295 , Path: ./data/audio_train/c6311bf9.wav , label: Bark\n",
      "File: 7320 , Path: ./data/audio_train/c6f0f0a0.wav , label: Bark\n",
      "File: 7335 , Path: ./data/audio_train/c742d233.wav , label: Meow\n",
      "File: 7370 , Path: ./data/audio_train/c82e9cfd.wav , label: Meow\n",
      "File: 7387 , Path: ./data/audio_train/c891e9de.wav , label: Meow\n",
      "File: 7405 , Path: ./data/audio_train/c8f4b741.wav , label: Meow\n",
      "File: 7431 , Path: ./data/audio_train/c9b862a5.wav , label: Bark\n",
      "File: 7451 , Path: ./data/audio_train/ca584ccc.wav , label: Meow\n",
      "File: 7525 , Path: ./data/audio_train/cc6a0e3f.wav , label: Meow\n",
      "File: 7537 , Path: ./data/audio_train/cca27a50.wav , label: Meow\n",
      "File: 7565 , Path: ./data/audio_train/cd5379cd.wav , label: Meow\n",
      "File: 7593 , Path: ./data/audio_train/ce21d830.wav , label: Meow\n",
      "File: 7595 , Path: ./data/audio_train/ce3453bc.wav , label: Bark\n",
      "File: 7607 , Path: ./data/audio_train/ce7cd11a.wav , label: Bark\n",
      "File: 7680 , Path: ./data/audio_train/d035d92e.wav , label: Meow\n",
      "File: 7700 , Path: ./data/audio_train/d0ebff16.wav , label: Bark\n",
      "File: 7717 , Path: ./data/audio_train/d13f77e0.wav , label: Bark\n",
      "File: 7728 , Path: ./data/audio_train/d16d5863.wav , label: Bark\n",
      "File: 7747 , Path: ./data/audio_train/d1fe974e.wav , label: Bark\n",
      "File: 7759 , Path: ./data/audio_train/d24ffccc.wav , label: Meow\n",
      "File: 7802 , Path: ./data/audio_train/d3a22b67.wav , label: Bark\n",
      "File: 7808 , Path: ./data/audio_train/d3b3a1b4.wav , label: Bark\n",
      "File: 7828 , Path: ./data/audio_train/d49eb5e4.wav , label: Bark\n",
      "File: 7863 , Path: ./data/audio_train/d57b2cb8.wav , label: Bark\n",
      "File: 7871 , Path: ./data/audio_train/d5de2e59.wav , label: Bark\n",
      "File: 7909 , Path: ./data/audio_train/d68fec49.wav , label: Meow\n",
      "File: 7927 , Path: ./data/audio_train/d6ff6f09.wav , label: Bark\n",
      "File: 7932 , Path: ./data/audio_train/d72830c2.wav , label: Bark\n",
      "File: 7934 , Path: ./data/audio_train/d72d685c.wav , label: Meow\n",
      "File: 7952 , Path: ./data/audio_train/d7b31417.wav , label: Meow\n",
      "File: 7986 , Path: ./data/audio_train/d877ea17.wav , label: Meow\n",
      "File: 7990 , Path: ./data/audio_train/d88fff0c.wav , label: Bark\n",
      "File: 8033 , Path: ./data/audio_train/d9b38f26.wav , label: Meow\n",
      "File: 8047 , Path: ./data/audio_train/d9f07bed.wav , label: Meow\n",
      "File: 8101 , Path: ./data/audio_train/db47cea5.wav , label: Meow\n",
      "File: 8109 , Path: ./data/audio_train/db7faa42.wav , label: Bark\n",
      "File: 8125 , Path: ./data/audio_train/dbe33088.wav , label: Bark\n",
      "File: 8131 , Path: ./data/audio_train/dc24a8f4.wav , label: Bark\n",
      "File: 8176 , Path: ./data/audio_train/dd797237.wav , label: Bark\n",
      "File: 8187 , Path: ./data/audio_train/ddcbf5ea.wav , label: Meow\n",
      "File: 8214 , Path: ./data/audio_train/de5bad53.wav , label: Bark\n",
      "File: 8262 , Path: ./data/audio_train/df79d259.wav , label: Bark\n",
      "File: 8263 , Path: ./data/audio_train/df881a37.wav , label: Bark\n",
      "File: 8280 , Path: ./data/audio_train/dfe7423a.wav , label: Bark\n",
      "File: 8311 , Path: ./data/audio_train/e0c71892.wav , label: Meow\n",
      "File: 8327 , Path: ./data/audio_train/e152333d.wav , label: Meow\n",
      "File: 8336 , Path: ./data/audio_train/e1a2b50a.wav , label: Bark\n",
      "File: 8341 , Path: ./data/audio_train/e1b3664c.wav , label: Meow\n",
      "File: 8344 , Path: ./data/audio_train/e1c7636a.wav , label: Bark\n",
      "File: 8345 , Path: ./data/audio_train/e1ca0934.wav , label: Meow\n",
      "File: 8354 , Path: ./data/audio_train/e2085fb6.wav , label: Bark\n",
      "File: 8360 , Path: ./data/audio_train/e23b5f47.wav , label: Bark\n",
      "File: 8404 , Path: ./data/audio_train/e3499812.wav , label: Meow\n",
      "File: 8439 , Path: ./data/audio_train/e47a46fc.wav , label: Bark\n",
      "File: 8441 , Path: ./data/audio_train/e4890814.wav , label: Bark\n",
      "File: 8460 , Path: ./data/audio_train/e4f2abc5.wav , label: Meow\n",
      "File: 8480 , Path: ./data/audio_train/e58fdb36.wav , label: Meow\n",
      "File: 8492 , Path: ./data/audio_train/e5e88639.wav , label: Bark\n",
      "File: 8511 , Path: ./data/audio_train/e6660adc.wav , label: Bark\n",
      "File: 8527 , Path: ./data/audio_train/e6d2a47c.wav , label: Bark\n",
      "File: 8543 , Path: ./data/audio_train/e7451c4c.wav , label: Bark\n",
      "File: 8560 , Path: ./data/audio_train/e7ac44d0.wav , label: Bark\n",
      "File: 8563 , Path: ./data/audio_train/e7b0e650.wav , label: Bark\n",
      "File: 8576 , Path: ./data/audio_train/e818acb7.wav , label: Bark\n",
      "File: 8620 , Path: ./data/audio_train/e9055021.wav , label: Meow\n",
      "File: 8627 , Path: ./data/audio_train/e920e82c.wav , label: Meow\n",
      "File: 8635 , Path: ./data/audio_train/e943becf.wav , label: Meow\n",
      "File: 8644 , Path: ./data/audio_train/e97e4eef.wav , label: Bark\n",
      "File: 8661 , Path: ./data/audio_train/ea0f8914.wav , label: Bark\n",
      "File: 8691 , Path: ./data/audio_train/eae18f5e.wav , label: Meow\n",
      "File: 8693 , Path: ./data/audio_train/eaf93312.wav , label: Meow\n",
      "File: 8706 , Path: ./data/audio_train/eb498bf2.wav , label: Meow\n",
      "File: 8717 , Path: ./data/audio_train/eba9349d.wav , label: Meow\n",
      "File: 8735 , Path: ./data/audio_train/ec24aa8a.wav , label: Meow\n",
      "File: 8789 , Path: ./data/audio_train/ed3e9e93.wav , label: Meow\n",
      "File: 8796 , Path: ./data/audio_train/ed84c059.wav , label: Bark\n",
      "File: 8813 , Path: ./data/audio_train/ee1a6d8f.wav , label: Bark\n",
      "File: 8820 , Path: ./data/audio_train/ee3324a5.wav , label: Meow\n",
      "File: 8846 , Path: ./data/audio_train/eeedfb62.wav , label: Bark\n",
      "File: 8866 , Path: ./data/audio_train/ef7b753e.wav , label: Meow\n",
      "File: 8882 , Path: ./data/audio_train/efe11ef2.wav , label: Meow\n",
      "File: 8901 , Path: ./data/audio_train/f05dfc96.wav , label: Meow\n",
      "File: 8910 , Path: ./data/audio_train/f09f18fe.wav , label: Bark\n",
      "File: 8928 , Path: ./data/audio_train/f10a5f1c.wav , label: Meow\n",
      "File: 8934 , Path: ./data/audio_train/f133df4c.wav , label: Bark\n",
      "File: 8953 , Path: ./data/audio_train/f1e1bbc9.wav , label: Meow\n",
      "File: 8968 , Path: ./data/audio_train/f24f8232.wav , label: Meow\n",
      "File: 8971 , Path: ./data/audio_train/f256d891.wav , label: Bark\n",
      "File: 9113 , Path: ./data/audio_train/f62af26f.wav , label: Bark\n",
      "File: 9132 , Path: ./data/audio_train/f69b13de.wav , label: Bark\n",
      "File: 9141 , Path: ./data/audio_train/f6da0840.wav , label: Bark\n",
      "File: 9163 , Path: ./data/audio_train/f7609214.wav , label: Meow\n",
      "File: 9197 , Path: ./data/audio_train/f8b67ac7.wav , label: Bark\n",
      "File: 9201 , Path: ./data/audio_train/f8c827a4.wav , label: Bark\n",
      "File: 9210 , Path: ./data/audio_train/f8f194a4.wav , label: Bark\n",
      "File: 9216 , Path: ./data/audio_train/f90e431b.wav , label: Bark\n",
      "File: 9224 , Path: ./data/audio_train/f95c9a39.wav , label: Bark\n"
     ]
    },
    {
     "name": "stdout",
     "output_type": "stream",
     "text": [
      "File: 9236 , Path: ./data/audio_train/f9907471.wav , label: Meow\n",
      "File: 9239 , Path: ./data/audio_train/f9a4b662.wav , label: Meow\n",
      "File: 9253 , Path: ./data/audio_train/fa2786f2.wav , label: Bark\n",
      "File: 9286 , Path: ./data/audio_train/faf61d4f.wav , label: Meow\n",
      "File: 9291 , Path: ./data/audio_train/fb14cf7c.wav , label: Bark\n",
      "File: 9297 , Path: ./data/audio_train/fb359da1.wav , label: Bark\n",
      "File: 9333 , Path: ./data/audio_train/fc35ee0b.wav , label: Meow\n",
      "File: 9343 , Path: ./data/audio_train/fc800c19.wav , label: Meow\n",
      "File: 9366 , Path: ./data/audio_train/fd1ae06f.wav , label: Meow\n",
      "File: 9441 , Path: ./data/audio_train/ff4ea3fe.wav , label: Meow\n"
     ]
    },
    {
     "data": {
      "text/html": [
       "<div>\n",
       "<style scoped>\n",
       "    .dataframe tbody tr th:only-of-type {\n",
       "        vertical-align: middle;\n",
       "    }\n",
       "\n",
       "    .dataframe tbody tr th {\n",
       "        vertical-align: top;\n",
       "    }\n",
       "\n",
       "    .dataframe thead th {\n",
       "        text-align: right;\n",
       "    }\n",
       "</style>\n",
       "<table border=\"1\" class=\"dataframe\">\n",
       "  <thead>\n",
       "    <tr style=\"text-align: right;\">\n",
       "      <th></th>\n",
       "      <th>filename</th>\n",
       "      <th>MFCC0</th>\n",
       "      <th>MFCC1</th>\n",
       "      <th>MFCC2</th>\n",
       "      <th>MFCC3</th>\n",
       "      <th>MFCC4</th>\n",
       "      <th>MFCC5</th>\n",
       "      <th>MFCC6</th>\n",
       "      <th>MFCC7</th>\n",
       "      <th>MFCC8</th>\n",
       "      <th>MFCC9</th>\n",
       "      <th>MFCC10</th>\n",
       "      <th>MFCC11</th>\n",
       "      <th>MFCC12</th>\n",
       "      <th>label</th>\n",
       "    </tr>\n",
       "  </thead>\n",
       "  <tbody>\n",
       "    <tr>\n",
       "      <th>27</th>\n",
       "      <td>00e2b4cd.wav</td>\n",
       "      <td>-3.369111</td>\n",
       "      <td>0.874723</td>\n",
       "      <td>0.180767</td>\n",
       "      <td>0.128674</td>\n",
       "      <td>0.154935</td>\n",
       "      <td>0.233266</td>\n",
       "      <td>0.194008</td>\n",
       "      <td>0.257196</td>\n",
       "      <td>0.269058</td>\n",
       "      <td>0.253215</td>\n",
       "      <td>0.262623</td>\n",
       "      <td>0.262478</td>\n",
       "      <td>0.298167</td>\n",
       "      <td>Bark</td>\n",
       "    </tr>\n",
       "    <tr>\n",
       "      <th>54</th>\n",
       "      <td>019d2a2c.wav</td>\n",
       "      <td>-2.583894</td>\n",
       "      <td>1.467600</td>\n",
       "      <td>-0.569302</td>\n",
       "      <td>-0.246995</td>\n",
       "      <td>-0.057985</td>\n",
       "      <td>0.133803</td>\n",
       "      <td>0.175074</td>\n",
       "      <td>0.373914</td>\n",
       "      <td>0.324229</td>\n",
       "      <td>0.345691</td>\n",
       "      <td>0.173544</td>\n",
       "      <td>0.395981</td>\n",
       "      <td>0.068341</td>\n",
       "      <td>Bark</td>\n",
       "    </tr>\n",
       "    <tr>\n",
       "      <th>70</th>\n",
       "      <td>020eb9f6.wav</td>\n",
       "      <td>-2.496982</td>\n",
       "      <td>2.115355</td>\n",
       "      <td>-0.254014</td>\n",
       "      <td>-0.159946</td>\n",
       "      <td>-0.024283</td>\n",
       "      <td>0.021379</td>\n",
       "      <td>0.075237</td>\n",
       "      <td>0.203116</td>\n",
       "      <td>-0.062294</td>\n",
       "      <td>0.061994</td>\n",
       "      <td>0.042210</td>\n",
       "      <td>0.285447</td>\n",
       "      <td>0.192780</td>\n",
       "      <td>Bark</td>\n",
       "    </tr>\n",
       "    <tr>\n",
       "      <th>94</th>\n",
       "      <td>027cd3fd.wav</td>\n",
       "      <td>-3.405794</td>\n",
       "      <td>0.804021</td>\n",
       "      <td>0.194733</td>\n",
       "      <td>0.266863</td>\n",
       "      <td>0.272010</td>\n",
       "      <td>0.310634</td>\n",
       "      <td>0.149319</td>\n",
       "      <td>0.290130</td>\n",
       "      <td>0.208531</td>\n",
       "      <td>0.228281</td>\n",
       "      <td>0.254735</td>\n",
       "      <td>0.283332</td>\n",
       "      <td>0.143205</td>\n",
       "      <td>Meow</td>\n",
       "    </tr>\n",
       "    <tr>\n",
       "      <th>125</th>\n",
       "      <td>03b4aca1.wav</td>\n",
       "      <td>-3.263657</td>\n",
       "      <td>0.912580</td>\n",
       "      <td>0.089816</td>\n",
       "      <td>0.246827</td>\n",
       "      <td>0.103184</td>\n",
       "      <td>0.262990</td>\n",
       "      <td>0.038898</td>\n",
       "      <td>0.410280</td>\n",
       "      <td>0.336678</td>\n",
       "      <td>0.419111</td>\n",
       "      <td>0.270038</td>\n",
       "      <td>0.122677</td>\n",
       "      <td>0.050578</td>\n",
       "      <td>Meow</td>\n",
       "    </tr>\n",
       "  </tbody>\n",
       "</table>\n",
       "</div>"
      ],
      "text/plain": [
       "         filename     MFCC0     MFCC1     MFCC2     MFCC3     MFCC4     MFCC5  \\\n",
       "27   00e2b4cd.wav -3.369111  0.874723  0.180767  0.128674  0.154935  0.233266   \n",
       "54   019d2a2c.wav -2.583894  1.467600 -0.569302 -0.246995 -0.057985  0.133803   \n",
       "70   020eb9f6.wav -2.496982  2.115355 -0.254014 -0.159946 -0.024283  0.021379   \n",
       "94   027cd3fd.wav -3.405794  0.804021  0.194733  0.266863  0.272010  0.310634   \n",
       "125  03b4aca1.wav -3.263657  0.912580  0.089816  0.246827  0.103184  0.262990   \n",
       "\n",
       "        MFCC6     MFCC7     MFCC8     MFCC9    MFCC10    MFCC11    MFCC12  \\\n",
       "27   0.194008  0.257196  0.269058  0.253215  0.262623  0.262478  0.298167   \n",
       "54   0.175074  0.373914  0.324229  0.345691  0.173544  0.395981  0.068341   \n",
       "70   0.075237  0.203116 -0.062294  0.061994  0.042210  0.285447  0.192780   \n",
       "94   0.149319  0.290130  0.208531  0.228281  0.254735  0.283332  0.143205   \n",
       "125  0.038898  0.410280  0.336678  0.419111  0.270038  0.122677  0.050578   \n",
       "\n",
       "    label  \n",
       "27   Bark  \n",
       "54   Bark  \n",
       "70   Bark  \n",
       "94   Meow  \n",
       "125  Meow  "
      ]
     },
     "execution_count": 13,
     "metadata": {},
     "output_type": "execute_result"
    }
   ],
   "source": [
    "n_mfcc = 13\n",
    "index = np.array(meta_data_bark_meow.index)\n",
    "\n",
    "df = pd.DataFrame(columns=['filename', 'MFCC0', 'MFCC1', 'MFCC2', 'MFCC3', 'MFCC4', 'MFCC5', 'MFCC6','MFCC7', 'MFCC8', 'MFCC9', 'MFCC10', 'MFCC11', 'MFCC12', 'label'])\n",
    "\n",
    "for index_value in range(len(index)):\n",
    "    path = PATH_AUDIOWAV_TRAIN+meta_data_bark_meow.fname[index[index_value]]\n",
    "    print('File:', index[index_value], ', Path:', path, ', label:', meta_data_bark_meow.label[index[index_value]])\n",
    "    \n",
    "    signal = AudioClip(path)\n",
    "    \n",
    "    # print(list(mfcc_scale_mean_feature(path)))\n",
    "    # reference: https://stackoverflow.com/questions/10715965/add-one-row-to-pandas-dataframe\n",
    "    df.loc[index[index_value]] = [meta_data_bark_meow.fname[index[index_value]]] + list(signal.get_scaled_mean_mfcc(n_mfcc)) + [meta_data_bark_meow.label[index[index_value]]]\n",
    "    \n",
    "df.head()"
   ]
  },
  {
   "cell_type": "code",
   "execution_count": 14,
   "metadata": {},
   "outputs": [],
   "source": [
    "df.to_csv('./data/feature_dataset.csv')"
   ]
  },
  {
   "cell_type": "markdown",
   "metadata": {},
   "source": [
    "## Classification - Random forest"
   ]
  },
  {
   "cell_type": "markdown",
   "metadata": {},
   "source": [
    "### Cleaning"
   ]
  },
  {
   "cell_type": "code",
   "execution_count": 16,
   "metadata": {},
   "outputs": [
    {
     "data": {
      "text/html": [
       "<div>\n",
       "<style scoped>\n",
       "    .dataframe tbody tr th:only-of-type {\n",
       "        vertical-align: middle;\n",
       "    }\n",
       "\n",
       "    .dataframe tbody tr th {\n",
       "        vertical-align: top;\n",
       "    }\n",
       "\n",
       "    .dataframe thead th {\n",
       "        text-align: right;\n",
       "    }\n",
       "</style>\n",
       "<table border=\"1\" class=\"dataframe\">\n",
       "  <thead>\n",
       "    <tr style=\"text-align: right;\">\n",
       "      <th></th>\n",
       "      <th>MFCC1</th>\n",
       "      <th>MFCC2</th>\n",
       "      <th>MFCC3</th>\n",
       "      <th>MFCC4</th>\n",
       "      <th>MFCC5</th>\n",
       "      <th>MFCC6</th>\n",
       "      <th>MFCC7</th>\n",
       "      <th>MFCC8</th>\n",
       "      <th>MFCC9</th>\n",
       "      <th>MFCC10</th>\n",
       "      <th>MFCC11</th>\n",
       "      <th>MFCC12</th>\n",
       "      <th>label</th>\n",
       "    </tr>\n",
       "  </thead>\n",
       "  <tbody>\n",
       "    <tr>\n",
       "      <th>27</th>\n",
       "      <td>0.874723</td>\n",
       "      <td>0.180767</td>\n",
       "      <td>0.128674</td>\n",
       "      <td>0.154935</td>\n",
       "      <td>0.233266</td>\n",
       "      <td>0.194008</td>\n",
       "      <td>0.257196</td>\n",
       "      <td>0.269058</td>\n",
       "      <td>0.253215</td>\n",
       "      <td>0.262623</td>\n",
       "      <td>0.262478</td>\n",
       "      <td>0.298167</td>\n",
       "      <td>Bark</td>\n",
       "    </tr>\n",
       "    <tr>\n",
       "      <th>54</th>\n",
       "      <td>1.467600</td>\n",
       "      <td>-0.569302</td>\n",
       "      <td>-0.246995</td>\n",
       "      <td>-0.057985</td>\n",
       "      <td>0.133803</td>\n",
       "      <td>0.175074</td>\n",
       "      <td>0.373914</td>\n",
       "      <td>0.324229</td>\n",
       "      <td>0.345691</td>\n",
       "      <td>0.173544</td>\n",
       "      <td>0.395981</td>\n",
       "      <td>0.068341</td>\n",
       "      <td>Bark</td>\n",
       "    </tr>\n",
       "    <tr>\n",
       "      <th>70</th>\n",
       "      <td>2.115355</td>\n",
       "      <td>-0.254014</td>\n",
       "      <td>-0.159946</td>\n",
       "      <td>-0.024283</td>\n",
       "      <td>0.021379</td>\n",
       "      <td>0.075237</td>\n",
       "      <td>0.203116</td>\n",
       "      <td>-0.062294</td>\n",
       "      <td>0.061994</td>\n",
       "      <td>0.042210</td>\n",
       "      <td>0.285447</td>\n",
       "      <td>0.192780</td>\n",
       "      <td>Bark</td>\n",
       "    </tr>\n",
       "    <tr>\n",
       "      <th>94</th>\n",
       "      <td>0.804021</td>\n",
       "      <td>0.194733</td>\n",
       "      <td>0.266863</td>\n",
       "      <td>0.272010</td>\n",
       "      <td>0.310634</td>\n",
       "      <td>0.149319</td>\n",
       "      <td>0.290130</td>\n",
       "      <td>0.208531</td>\n",
       "      <td>0.228281</td>\n",
       "      <td>0.254735</td>\n",
       "      <td>0.283332</td>\n",
       "      <td>0.143205</td>\n",
       "      <td>Meow</td>\n",
       "    </tr>\n",
       "    <tr>\n",
       "      <th>125</th>\n",
       "      <td>0.912580</td>\n",
       "      <td>0.089816</td>\n",
       "      <td>0.246827</td>\n",
       "      <td>0.103184</td>\n",
       "      <td>0.262990</td>\n",
       "      <td>0.038898</td>\n",
       "      <td>0.410280</td>\n",
       "      <td>0.336678</td>\n",
       "      <td>0.419111</td>\n",
       "      <td>0.270038</td>\n",
       "      <td>0.122677</td>\n",
       "      <td>0.050578</td>\n",
       "      <td>Meow</td>\n",
       "    </tr>\n",
       "  </tbody>\n",
       "</table>\n",
       "</div>"
      ],
      "text/plain": [
       "        MFCC1     MFCC2     MFCC3     MFCC4     MFCC5     MFCC6     MFCC7  \\\n",
       "27   0.874723  0.180767  0.128674  0.154935  0.233266  0.194008  0.257196   \n",
       "54   1.467600 -0.569302 -0.246995 -0.057985  0.133803  0.175074  0.373914   \n",
       "70   2.115355 -0.254014 -0.159946 -0.024283  0.021379  0.075237  0.203116   \n",
       "94   0.804021  0.194733  0.266863  0.272010  0.310634  0.149319  0.290130   \n",
       "125  0.912580  0.089816  0.246827  0.103184  0.262990  0.038898  0.410280   \n",
       "\n",
       "        MFCC8     MFCC9    MFCC10    MFCC11    MFCC12 label  \n",
       "27   0.269058  0.253215  0.262623  0.262478  0.298167  Bark  \n",
       "54   0.324229  0.345691  0.173544  0.395981  0.068341  Bark  \n",
       "70  -0.062294  0.061994  0.042210  0.285447  0.192780  Bark  \n",
       "94   0.208531  0.228281  0.254735  0.283332  0.143205  Meow  \n",
       "125  0.336678  0.419111  0.270038  0.122677  0.050578  Meow  "
      ]
     },
     "execution_count": 16,
     "metadata": {},
     "output_type": "execute_result"
    }
   ],
   "source": [
    "# Remove columns filename and MFCC0\n",
    "df =  df.drop(['filename', 'MFCC0'], axis = 1)\n",
    "df.head()"
   ]
  },
  {
   "cell_type": "code",
   "execution_count": 17,
   "metadata": {},
   "outputs": [
    {
     "name": "stdout",
     "output_type": "stream",
     "text": [
      "Columns with missing values: 0\n"
     ]
    }
   ],
   "source": [
    "# check missing values\n",
    "print('Columns with missing values:', df.isnull().any().sum())"
   ]
  },
  {
   "cell_type": "code",
   "execution_count": 18,
   "metadata": {},
   "outputs": [
    {
     "name": "stdout",
     "output_type": "stream",
     "text": [
      "['MFCC1', 'MFCC2', 'MFCC3', 'MFCC4', 'MFCC5', 'MFCC6', 'MFCC7', 'MFCC8', 'MFCC9', 'MFCC10', 'MFCC11', 'MFCC12']\n"
     ]
    }
   ],
   "source": [
    "# List of features\n",
    "features = df.columns.values[0:len(df.columns.values)-1]\n",
    "print(list(features))"
   ]
  },
  {
   "cell_type": "markdown",
   "metadata": {},
   "source": [
    "### Dataset split"
   ]
  },
  {
   "cell_type": "code",
   "execution_count": 19,
   "metadata": {},
   "outputs": [],
   "source": [
    "X = df[features]\n",
    "y = df['label']"
   ]
  },
  {
   "cell_type": "code",
   "execution_count": 22,
   "metadata": {},
   "outputs": [],
   "source": [
    "# Train:Test, ratio 75:25\n",
    "X_train, X_val, y_train, y_val = train_test_split(X, y, test_size=0.25, random_state=0)"
   ]
  },
  {
   "cell_type": "markdown",
   "metadata": {},
   "source": [
    "### Random forest"
   ]
  },
  {
   "cell_type": "code",
   "execution_count": 24,
   "metadata": {},
   "outputs": [
    {
     "name": "stdout",
     "output_type": "stream",
     "text": [
      "{'bootstrap': True, 'class_weight': None, 'criterion': 'gini', 'max_depth': None, 'max_features': 'auto', 'max_leaf_nodes': None, 'min_impurity_decrease': 0.0, 'min_impurity_split': None, 'min_samples_leaf': 1, 'min_samples_split': 2, 'min_weight_fraction_leaf': 0.0, 'n_estimators': 500, 'n_jobs': -1, 'oob_score': False, 'random_state': 20, 'verbose': 0, 'warm_start': False}\n",
      "\n",
      "Accuracy: 86.9\n"
     ]
    }
   ],
   "source": [
    "max_depth = None\n",
    "max_leaf_nodes = None\n",
    "n_estimators = 500 # number of trees\n",
    "\n",
    "# Create a random forest Classifier\n",
    "clf =  RandomForestClassifier(max_depth = max_depth, max_leaf_nodes = max_leaf_nodes, n_estimators = n_estimators, \n",
    "                             random_state = 20, n_jobs=-1)\n",
    "\n",
    "# Train the classifier\n",
    "clf.fit(X_train, y_train)\n",
    "\n",
    "# predict class labels for samples in the validation set\n",
    "y_pred = clf.predict(X_val)\n",
    "\n",
    "# Confusion matrix\n",
    "cnf_matrix = metrics.confusion_matrix(y_val, y_pred)\n",
    "\n",
    "# parameters used by current model\n",
    "parameters_RandomForestClassifier = clf.get_params()\n",
    "print(parameters_RandomForestClassifier)\n",
    "\n",
    "print('')\n",
    "print(\"Accuracy:\",100*round(metrics.accuracy_score(y_val, y_pred),3))\n"
   ]
  },
  {
   "cell_type": "code",
   "execution_count": 30,
   "metadata": {},
   "outputs": [
    {
     "name": "stdout",
     "output_type": "stream",
     "text": [
      "Normalized confusion matrix\n"
     ]
    },
    {
     "data": {
      "image/png": "[encoded data removed]",
      "text/plain": [
       "<Figure size 360x360 with 2 Axes>"
      ]
     },
     "metadata": {
      "needs_background": "light"
     },
     "output_type": "display_data"
    }
   ],
   "source": [
    "class_labels = list(df.label.value_counts().index)\n",
    "\n",
    "# Plot normalized confusion matrix\n",
    "plt.figure(figsize =(5,5))\n",
    "plot_confusion_matrix(cnf_matrix, classes=class_labels, normalize=True,\n",
    "                      title='Normalized confusion matrix')\n",
    "\n",
    "plt.show()"
   ]
  },
  {
   "cell_type": "markdown",
   "metadata": {},
   "source": [
    "# [EOF]"
   ]
  }
 ],
 "metadata": {
  "kernelspec": {
   "display_name": "Python 3",
   "language": "python",
   "name": "python3"
  },
  "language_info": {
   "codemirror_mode": {
    "name": "ipython",
    "version": 3
   },
   "file_extension": ".py",
   "mimetype": "text/x-python",
   "name": "python",
   "nbconvert_exporter": "python",
   "pygments_lexer": "ipython3",
   "version": "3.7.3"
  }
 },
 "nbformat": 4,
 "nbformat_minor": 2
}
