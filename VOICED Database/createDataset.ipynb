{
 "cells": [
  {
   "cell_type": "markdown",
   "metadata": {},
   "source": [
    "# A new database of healthy and pathological voices\n",
    "# Create dataset"
   ]
  },
  {
   "cell_type": "markdown",
   "metadata": {},
   "source": [
    "In this notebook a dataset is created from the -info.txt files and saved into an excel file.\n",
    "\n",
    "Database [VOICED (VOice ICar fEDerico II) database](https://physionet.org/physiobank/database/voiced/). \n",
    "\n",
    "References:<br>\n",
    "U. Cesari, G. De Pietro, E. Marciano, C. Niri, G. Sannino, and L. Verde. A new database of healthy and pathological voices. Computers & Electrical Engineering, vol. 68, pp. 310-321, 5 2018.\n",
    "<br><br>\n",
    "Goldberger AL, Amaral LAN, Glass L, Hausdorff JM, Ivanov PCh, Mark RG, Mietus JE, Moody GB, Peng C-K, Stanley HE. PhysioBank, PhysioToolkit, and PhysioNet: Components of a New Research Resource for Complex Physiologic Signals. Circulation 101(23):e215-e220 [Circulation Electronic Pages; http://circ.ahajournals.org/cgi/content/full/101/23/e215]; 2000 (June 13).\n",
    "<br><br>\n",
    "Last modified 23 December 2018"
   ]
  },
  {
   "cell_type": "code",
   "execution_count": 1,
   "metadata": {},
   "outputs": [],
   "source": [
    "import pandas as pd\n",
    "import re"
   ]
  },
  {
   "cell_type": "markdown",
   "metadata": {},
   "source": [
    "**Read record with all the filenames**"
   ]
  },
  {
   "cell_type": "code",
   "execution_count": 2,
   "metadata": {},
   "outputs": [],
   "source": [
    "# Read record file\n",
    "fileDownloadLocation = './Database/'\n",
    "filename = 'RECORDS'\n",
    "\n",
    "\n",
    "# Open record file    \n",
    "fileHandler = open (fileDownloadLocation+filename, \"r\")\n",
    "# Get list of all lines in file\n",
    "listOfRecords = fileHandler.readlines()\n",
    "# Close file \n",
    "fileHandler.close()"
   ]
  },
  {
   "cell_type": "markdown",
   "metadata": {},
   "source": [
    "**The features**"
   ]
  },
  {
   "cell_type": "code",
   "execution_count": 3,
   "metadata": {},
   "outputs": [],
   "source": [
    "# Create header of features\n",
    "filename = listOfRecords[0].strip()\n",
    "# Open record file    \n",
    "fileHandler = open (fileDownloadLocation+filename+'-info.txt', \"r\")\n",
    "# Get list of all lines in file\n",
    "listOfData = fileHandler.readlines()\n",
    "# Close file \n",
    "fileHandler.close()"
   ]
  },
  {
   "cell_type": "code",
   "execution_count": 4,
   "metadata": {},
   "outputs": [
    {
     "data": {
      "text/plain": [
       "['ID',\n",
       " '',\n",
       " 'Age',\n",
       " 'Gender',\n",
       " 'Diagnosis',\n",
       " 'Occupation status',\n",
       " '',\n",
       " '',\n",
       " 'Voice Handicap Index (VHI) Score',\n",
       " 'Reflux Symptom Index (RSI) Score',\n",
       " '',\n",
       " '',\n",
       " 'Smoker',\n",
       " 'Number of cigarettes smoked per day',\n",
       " '',\n",
       " 'Alcohol consumption',\n",
       " 'Number of glasses containing alcoholic beverage drinked in a day',\n",
       " \"Amount of water's litres drink every day\",\n",
       " '',\n",
       " 'Eating habits',\n",
       " 'Carbonated beverages',\n",
       " 'Amount of glasses drinked in a day',\n",
       " 'Tomatoes',\n",
       " 'Coffee',\n",
       " 'Number of cups of coffee drinked in a day',\n",
       " 'Chocolate',\n",
       " 'Gramme of chocolate eaten in  a day',\n",
       " 'Soft cheese',\n",
       " 'Gramme of soft cheese eaten in a day',\n",
       " 'Citrus fruits',\n",
       " 'Number of citrus fruits eaten in a day',\n",
       " '']"
      ]
     },
     "execution_count": 4,
     "metadata": {},
     "output_type": "execute_result"
    }
   ],
   "source": [
    "headerList = []\n",
    "for i in range(len(listOfData)):\n",
    "    string = re.split('\\t|,|\\n',listOfData[i])\n",
    "    headerList.append(string[0])\n",
    "headerList.insert(len(headerList)+1,\"\")   \n",
    "# remove : in the string\n",
    "newheaderList = []\n",
    "for element in headerList:\n",
    "    newheaderList.append(element.replace(':', ''))\n",
    "newheaderList"
   ]
  },
  {
   "cell_type": "markdown",
   "metadata": {},
   "source": [
    "**Build dataframe**"
   ]
  },
  {
   "cell_type": "code",
   "execution_count": 5,
   "metadata": {},
   "outputs": [],
   "source": [
    "data = []\n",
    "for line in listOfRecords:\n",
    "    record = line.strip()\n",
    "    #print(record)\n",
    "    filename = record+'-info.txt'\n",
    "    # Open record file    \n",
    "    fileHandler = open (fileDownloadLocation+filename, \"r\")\n",
    "    # Get list of all lines in file\n",
    "    dataLine= fileHandler.readlines()\n",
    "    # Close file \n",
    "    fileHandler.close()\n",
    "    \n",
    "    dataString = []\n",
    "    for i in range(len(dataLine)):\n",
    "        string = re.split('\\t|,|\\n',dataLine[i])\n",
    "        dataString.append(string[1])\n",
    "    data.append(dataString)"
   ]
  },
  {
   "cell_type": "code",
   "execution_count": 6,
   "metadata": {
    "scrolled": false
   },
   "outputs": [
    {
     "data": {
      "text/html": [
       "<div>\n",
       "<style scoped>\n",
       "    .dataframe tbody tr th:only-of-type {\n",
       "        vertical-align: middle;\n",
       "    }\n",
       "\n",
       "    .dataframe tbody tr th {\n",
       "        vertical-align: top;\n",
       "    }\n",
       "\n",
       "    .dataframe thead th {\n",
       "        text-align: right;\n",
       "    }\n",
       "</style>\n",
       "<table border=\"1\" class=\"dataframe\">\n",
       "  <thead>\n",
       "    <tr style=\"text-align: right;\">\n",
       "      <th></th>\n",
       "      <th>ID</th>\n",
       "      <th>Age</th>\n",
       "      <th>Gender</th>\n",
       "      <th>Diagnosis</th>\n",
       "      <th>Occupation status</th>\n",
       "      <th>Voice Handicap Index (VHI) Score</th>\n",
       "      <th>Reflux Symptom Index (RSI) Score</th>\n",
       "      <th>Smoker</th>\n",
       "      <th>Number of cigarettes smoked per day</th>\n",
       "      <th>Alcohol consumption</th>\n",
       "      <th>...</th>\n",
       "      <th>Amount of glasses drinked in a day</th>\n",
       "      <th>Tomatoes</th>\n",
       "      <th>Coffee</th>\n",
       "      <th>Number of cups of coffee drinked in a day</th>\n",
       "      <th>Chocolate</th>\n",
       "      <th>Gramme of chocolate eaten in  a day</th>\n",
       "      <th>Soft cheese</th>\n",
       "      <th>Gramme of soft cheese eaten in a day</th>\n",
       "      <th>Citrus fruits</th>\n",
       "      <th>Number of citrus fruits eaten in a day</th>\n",
       "    </tr>\n",
       "  </thead>\n",
       "  <tbody>\n",
       "    <tr>\n",
       "      <th>0</th>\n",
       "      <td>voice001</td>\n",
       "      <td>32</td>\n",
       "      <td>m</td>\n",
       "      <td>hyperkinetic dysphonia</td>\n",
       "      <td>Researcher</td>\n",
       "      <td>15</td>\n",
       "      <td>5</td>\n",
       "      <td>no</td>\n",
       "      <td>NU</td>\n",
       "      <td>casual drinker</td>\n",
       "      <td>...</td>\n",
       "      <td>NU</td>\n",
       "      <td>sometimes</td>\n",
       "      <td>almost always</td>\n",
       "      <td>4</td>\n",
       "      <td>almost never</td>\n",
       "      <td>NU</td>\n",
       "      <td>sometimes</td>\n",
       "      <td>NU</td>\n",
       "      <td>sometimes</td>\n",
       "      <td>NU</td>\n",
       "    </tr>\n",
       "    <tr>\n",
       "      <th>1</th>\n",
       "      <td>voice002</td>\n",
       "      <td>55</td>\n",
       "      <td>m</td>\n",
       "      <td>healthy</td>\n",
       "      <td>Employee</td>\n",
       "      <td>17</td>\n",
       "      <td>12</td>\n",
       "      <td>casual smoker</td>\n",
       "      <td>2</td>\n",
       "      <td>habitual drinker</td>\n",
       "      <td>...</td>\n",
       "      <td>3</td>\n",
       "      <td>sometimes</td>\n",
       "      <td>sometimes</td>\n",
       "      <td>3</td>\n",
       "      <td>sometimes</td>\n",
       "      <td>NU</td>\n",
       "      <td>almost always</td>\n",
       "      <td>50 gr</td>\n",
       "      <td>almost always</td>\n",
       "      <td>2</td>\n",
       "    </tr>\n",
       "    <tr>\n",
       "      <th>2</th>\n",
       "      <td>voice003</td>\n",
       "      <td>34</td>\n",
       "      <td>m</td>\n",
       "      <td>hyperkinetic dysphonia (nodule)</td>\n",
       "      <td>Researcher</td>\n",
       "      <td>42</td>\n",
       "      <td>26</td>\n",
       "      <td>no</td>\n",
       "      <td>NU</td>\n",
       "      <td>casual drinker</td>\n",
       "      <td>...</td>\n",
       "      <td>1</td>\n",
       "      <td>sometimes</td>\n",
       "      <td>almost always</td>\n",
       "      <td>NU</td>\n",
       "      <td>sometimes</td>\n",
       "      <td>20 gr</td>\n",
       "      <td>almost always</td>\n",
       "      <td>200 gr</td>\n",
       "      <td>almost never</td>\n",
       "      <td>NU</td>\n",
       "    </tr>\n",
       "    <tr>\n",
       "      <th>3</th>\n",
       "      <td>voice004</td>\n",
       "      <td>28</td>\n",
       "      <td>f</td>\n",
       "      <td>hypokinetic dysphonia</td>\n",
       "      <td>Researcher</td>\n",
       "      <td>20</td>\n",
       "      <td>9</td>\n",
       "      <td>casual smoker</td>\n",
       "      <td>NU</td>\n",
       "      <td>casual drinker</td>\n",
       "      <td>...</td>\n",
       "      <td>NU</td>\n",
       "      <td>sometimes</td>\n",
       "      <td>always</td>\n",
       "      <td>3</td>\n",
       "      <td>sometimes</td>\n",
       "      <td>NU</td>\n",
       "      <td>almost always</td>\n",
       "      <td>NU</td>\n",
       "      <td>sometimes</td>\n",
       "      <td>NU</td>\n",
       "    </tr>\n",
       "    <tr>\n",
       "      <th>4</th>\n",
       "      <td>voice005</td>\n",
       "      <td>54</td>\n",
       "      <td>f</td>\n",
       "      <td>hypokinetic dysphonia</td>\n",
       "      <td>Researcher</td>\n",
       "      <td>39</td>\n",
       "      <td>23</td>\n",
       "      <td>no</td>\n",
       "      <td>NU</td>\n",
       "      <td>casual drinker</td>\n",
       "      <td>...</td>\n",
       "      <td>NU</td>\n",
       "      <td>sometimes</td>\n",
       "      <td>never</td>\n",
       "      <td>NU</td>\n",
       "      <td>sometimes</td>\n",
       "      <td>150 gr</td>\n",
       "      <td>sometimes</td>\n",
       "      <td>200 gr</td>\n",
       "      <td>almost always</td>\n",
       "      <td>1</td>\n",
       "    </tr>\n",
       "  </tbody>\n",
       "</table>\n",
       "<p>5 rows × 24 columns</p>\n",
       "</div>"
      ],
      "text/plain": [
       "         ID Age Gender                        Diagnosis Occupation status  \\\n",
       "0  voice001  32      m           hyperkinetic dysphonia        Researcher   \n",
       "1  voice002  55      m                          healthy          Employee   \n",
       "2  voice003  34      m  hyperkinetic dysphonia (nodule)        Researcher   \n",
       "3  voice004  28      f            hypokinetic dysphonia        Researcher   \n",
       "4  voice005  54      f            hypokinetic dysphonia        Researcher   \n",
       "\n",
       "  Voice Handicap Index (VHI) Score Reflux Symptom Index (RSI) Score  \\\n",
       "0                               15                                5   \n",
       "1                               17                               12   \n",
       "2                               42                               26   \n",
       "3                               20                                9   \n",
       "4                               39                               23   \n",
       "\n",
       "          Smoker Number of cigarettes smoked per day Alcohol consumption  \\\n",
       "0             no                                  NU      casual drinker   \n",
       "1  casual smoker                                   2    habitual drinker   \n",
       "2             no                                  NU      casual drinker   \n",
       "3  casual smoker                                  NU      casual drinker   \n",
       "4             no                                  NU      casual drinker   \n",
       "\n",
       "                   ...                   Amount of glasses drinked in a day  \\\n",
       "0                  ...                                                   NU   \n",
       "1                  ...                                                    3   \n",
       "2                  ...                                                    1   \n",
       "3                  ...                                                   NU   \n",
       "4                  ...                                                   NU   \n",
       "\n",
       "    Tomatoes         Coffee Number of cups of coffee drinked in a day  \\\n",
       "0  sometimes  almost always                                         4   \n",
       "1  sometimes      sometimes                                         3   \n",
       "2  sometimes  almost always                                        NU   \n",
       "3  sometimes         always                                         3   \n",
       "4  sometimes          never                                        NU   \n",
       "\n",
       "      Chocolate Gramme of chocolate eaten in  a day    Soft cheese  \\\n",
       "0  almost never                                  NU      sometimes   \n",
       "1     sometimes                                  NU  almost always   \n",
       "2     sometimes                               20 gr  almost always   \n",
       "3     sometimes                                  NU  almost always   \n",
       "4     sometimes                             150 gr       sometimes   \n",
       "\n",
       "  Gramme of soft cheese eaten in a day  Citrus fruits  \\\n",
       "0                                   NU      sometimes   \n",
       "1                                50 gr  almost always   \n",
       "2                               200 gr   almost never   \n",
       "3                                   NU      sometimes   \n",
       "4                              200 gr   almost always   \n",
       "\n",
       "  Number of citrus fruits eaten in a day  \n",
       "0                                     NU  \n",
       "1                                      2  \n",
       "2                                     NU  \n",
       "3                                     NU  \n",
       "4                                      1  \n",
       "\n",
       "[5 rows x 24 columns]"
      ]
     },
     "execution_count": 6,
     "metadata": {},
     "output_type": "execute_result"
    }
   ],
   "source": [
    "# Drop all columns with name ''\n",
    "df = pd.DataFrame(data)\n",
    "df.columns = newheaderList\n",
    "df = df.drop('', 1)\n",
    "df.head()"
   ]
  },
  {
   "cell_type": "code",
   "execution_count": 7,
   "metadata": {},
   "outputs": [
    {
     "data": {
      "text/plain": [
       "(208, 24)"
      ]
     },
     "execution_count": 7,
     "metadata": {},
     "output_type": "execute_result"
    }
   ],
   "source": [
    "df.shape"
   ]
  },
  {
   "cell_type": "code",
   "execution_count": 8,
   "metadata": {},
   "outputs": [
    {
     "data": {
      "text/plain": [
       "['ID',\n",
       " 'Age',\n",
       " 'Gender',\n",
       " 'Diagnosis',\n",
       " 'Occupation status',\n",
       " 'Voice Handicap Index (VHI) Score',\n",
       " 'Reflux Symptom Index (RSI) Score',\n",
       " 'Smoker',\n",
       " 'Number of cigarettes smoked per day',\n",
       " 'Alcohol consumption',\n",
       " 'Number of glasses containing alcoholic beverage drinked in a day',\n",
       " \"Amount of water's litres drink every day\",\n",
       " 'Eating habits',\n",
       " 'Carbonated beverages',\n",
       " 'Amount of glasses drinked in a day',\n",
       " 'Tomatoes',\n",
       " 'Coffee',\n",
       " 'Number of cups of coffee drinked in a day',\n",
       " 'Chocolate',\n",
       " 'Gramme of chocolate eaten in  a day',\n",
       " 'Soft cheese',\n",
       " 'Gramme of soft cheese eaten in a day',\n",
       " 'Citrus fruits',\n",
       " 'Number of citrus fruits eaten in a day']"
      ]
     },
     "execution_count": 8,
     "metadata": {},
     "output_type": "execute_result"
    }
   ],
   "source": [
    "list(df.columns.values)"
   ]
  },
  {
   "cell_type": "markdown",
   "metadata": {},
   "source": [
    "**Save dataframe to excel file**"
   ]
  },
  {
   "cell_type": "code",
   "execution_count": 9,
   "metadata": {},
   "outputs": [],
   "source": [
    "# Write to excel file\n",
    "excelFile = './Datasets/dataset_InfoTxtFile.xlsx'\n",
    "writer = pd.ExcelWriter(excelFile)\n",
    "df.to_excel(writer,'Sheet1')\n",
    "writer.save()"
   ]
  },
  {
   "cell_type": "markdown",
   "metadata": {},
   "source": [
    "# [EOF]"
   ]
  }
 ],
 "metadata": {
  "kernelspec": {
   "display_name": "Python 3",
   "language": "python",
   "name": "python3"
  },
  "language_info": {
   "codemirror_mode": {
    "name": "ipython",
    "version": 3
   },
   "file_extension": ".py",
   "mimetype": "text/x-python",
   "name": "python",
   "nbconvert_exporter": "python",
   "pygments_lexer": "ipython3",
   "version": "3.6.5"
  }
 },
 "nbformat": 4,
 "nbformat_minor": 2
}
